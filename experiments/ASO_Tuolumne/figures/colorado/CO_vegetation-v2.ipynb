{
 "cells": [
  {
   "cell_type": "code",
   "execution_count": 1,
   "metadata": {},
   "outputs": [],
   "source": [
    "import sys\n",
    "import os\n",
    "\n",
    "import pandas as pd\n",
    "import numpy as np\n",
    "\n",
    "from string import ascii_uppercase\n",
    "\n",
    "\n",
    "import rasterio as rio\n",
    "\n",
    "import matplotlib.pyplot as plt\n",
    "import seaborn as sns\n",
    "\n",
    "\n",
    "from sklearn import metrics\n",
    "\n",
    "import glob\n",
    "import tqdm\n",
    "\n",
    "from subprocess import Popen\n",
    "\n",
    "%matplotlib inline"
   ]
  },
  {
   "cell_type": "markdown",
   "metadata": {},
   "source": [
    "# Vegetation Mask Comparisions"
   ]
  },
  {
   "cell_type": "code",
   "execution_count": 2,
   "metadata": {},
   "outputs": [],
   "source": [
    "root = \"/Volumes/wrangell-st-elias/research/planet/tuol-reruns-v2/CO/\""
   ]
  },
  {
   "cell_type": "code",
   "execution_count": 3,
   "metadata": {},
   "outputs": [],
   "source": [
    "vegmask = os.path.join(root, \"veg/GE_veg_1m.tif\")"
   ]
  },
  {
   "cell_type": "code",
   "execution_count": 4,
   "metadata": {},
   "outputs": [],
   "source": [
    "image_dirs = glob.glob(os.path.join(root, \"s3:::*\"))"
   ]
  },
  {
   "cell_type": "code",
   "execution_count": 15,
   "metadata": {},
   "outputs": [
    {
     "data": {
      "text/plain": [
       "['/Volumes/wrangell-st-elias/research/planet/tuol-reruns-v2/CO/s3:::planet-snowcover-models:ASO-3M-SD-USCASJ-20180601-Step2-V2-2020-03-03-17-49-47-260:planet-snowcover-imagery:20180524_172142_103d_3B_AnalyticMS_SR_clip',\n",
       " '/Volumes/wrangell-st-elias/research/planet/tuol-reruns-v2/CO/s3:::planet-snowcover-models:ASO-3M-SD-USCASJ-20180601-Step2-V2-2020-03-03-17-49-47-260:planet-snowcover-imagery:20180524_172143_103d_3B_AnalyticMS_SR_clip',\n",
       " '/Volumes/wrangell-st-elias/research/planet/tuol-reruns-v2/CO/s3:::planet-snowcover-models:ASO-3M-SD-USCASJ-20180601-Step2-V2-2020-03-03-17-49-47-260:planet-snowcover-imagery:20180524_172144_103d_3B_AnalyticMS_SR_clip',\n",
       " '/Volumes/wrangell-st-elias/research/planet/tuol-reruns-v2/CO/s3:::planet-snowcover-models:ASO-3M-SD-USCASJ-20180601-Step2-V2-2020-03-03-17-49-47-260:planet-snowcover-imagery:20180524_172145_103d_3B_AnalyticMS_SR_clip',\n",
       " '/Volumes/wrangell-st-elias/research/planet/tuol-reruns-v2/CO/s3:::planet-snowcover-models:ASO-3M-SD-USCASJ-20180601-Step2-V2-2020-03-03-17-49-47-260:planet-snowcover-imagery:20180524_172326_0f51_3B_AnalyticMS_SR_clip',\n",
       " '/Volumes/wrangell-st-elias/research/planet/tuol-reruns-v2/CO/s3:::planet-snowcover-models:ASO-3M-SD-USCASJ-20180601-Step2-V2-2020-03-03-17-49-47-260:planet-snowcover-imagery:20180524_172327_0f51_3B_AnalyticMS_SR_clip',\n",
       " '/Volumes/wrangell-st-elias/research/planet/tuol-reruns-v2/CO/s3:::planet-snowcover-models:ASO-3M-SD-USCASJ-20180601-Step2-V2-2020-03-03-17-49-47-260:planet-snowcover-imagery:20180524_172329_0f51_3B_AnalyticMS_SR_clip',\n",
       " '/Volumes/wrangell-st-elias/research/planet/tuol-reruns-v2/CO/s3:::planet-snowcover-models:ASO-3M-SD-USCASJ-20180601-Step2-V2-2020-03-03-17-49-47-260:planet-snowcover-imagery:20180524_172330_0f51_3B_AnalyticMS_SR_clip',\n",
       " '/Volumes/wrangell-st-elias/research/planet/tuol-reruns-v2/CO/s3:::planet-snowcover-models:ASO-3M-SD-USCASJ-20180601-Step2-V2-2020-03-03-17-49-47-260:planet-snowcover-imagery:20180524_172331_0f51_3B_AnalyticMS_SR_clip',\n",
       " '/Volumes/wrangell-st-elias/research/planet/tuol-reruns-v2/CO/s3:::planet-snowcover-models:ASO-3M-SD-USCASJ-20180601-Step2-V2-2020-03-03-17-49-47-260:planet-snowcover-imagery:20180524_172634_0f2d_3B_AnalyticMS_SR_clip',\n",
       " '/Volumes/wrangell-st-elias/research/planet/tuol-reruns-v2/CO/s3:::planet-snowcover-models:ASO-3M-SD-USCASJ-20180601-Step2-V2-2020-03-03-17-49-47-260:planet-snowcover-imagery:20180524_172635_0f2d_3B_AnalyticMS_SR_clip',\n",
       " '/Volumes/wrangell-st-elias/research/planet/tuol-reruns-v2/CO/s3:::planet-snowcover-models:ASO-3M-SD-USCASJ-20180601-Step2-V2-2020-03-03-17-49-47-260:planet-snowcover-imagery:20180524_172637_0f2d_3B_AnalyticMS_SR_clip']"
      ]
     },
     "execution_count": 15,
     "metadata": {},
     "output_type": "execute_result"
    }
   ],
   "source": [
    "image_dirs"
   ]
  },
  {
   "cell_type": "markdown",
   "metadata": {},
   "source": [
    "## Clip veg to individual images"
   ]
  },
  {
   "cell_type": "code",
   "execution_count": 16,
   "metadata": {},
   "outputs": [],
   "source": [
    "gdal_clip = \"gdalwarp -overwrite -dstnodata 9999 -t_srs EPSG:4326 -cutline {cutline} -crop_to_cutline {vegmask} {vegmask_clipped}\"\n",
    "for image_root in image_dirs:\n",
    "    gdal_clip_cmd = gdal_clip.format(\n",
    "        cutline = os.path.join(image_root, 'data-mask.geojson'),\n",
    "        vegmask = vegmask,\n",
    "        vegmask_clipped = os.path.join(image_root, 'veg_mask_clipped.vrt')\n",
    "    )\n",
    "    Popen(gdal_clip_cmd, shell=True).communicate()\n"
   ]
  },
  {
   "cell_type": "markdown",
   "metadata": {},
   "source": [
    "## Resample + Clip all Metrics in all Images"
   ]
  },
  {
   "cell_type": "code",
   "execution_count": 17,
   "metadata": {},
   "outputs": [],
   "source": [
    "gdal_combine = \"gdalbuildvrt -overwrite -resolution lowest \" \\\n",
    "               \"-separate -r {resampling} -vrtnodata '-9999 -9999 -9999' \" \\\n",
    "               \"{output}.vrt {comparator} {aso} {veg}\"\n",
    "        "
   ]
  },
  {
   "cell_type": "code",
   "execution_count": 18,
   "metadata": {},
   "outputs": [
    {
     "name": "stderr",
     "output_type": "stream",
     "text": [
      "100%|██████████| 12/12 [04:21<00:00, 21.76s/it]\n"
     ]
    }
   ],
   "source": [
    "# for each image, need to build {pred, aso, pred} file at coarsest resolution.\n",
    "all_results = []\n",
    "aso_glob = \"*/ASO_merged.tif\"\n",
    "comparators_glob = [\n",
    "    ('ml', \"*/*SR_clip_merged.tif\"),\n",
    "    ('s2', \"*/*NDSI*.tif\"),\n",
    "    ('ls8', \"*/LC08*.tif\")\n",
    "]\n",
    "for image_root in tqdm.tqdm(image_dirs):\n",
    "    imageid = os.path.split(image_root)[1].split(':')[-1]\n",
    "    os.makedirs(os.path.join(root, image_root, \"veg\"), exist_ok=True)\n",
    "    aso = glob.glob(os.path.join(root, image_root, aso_glob))[0]\n",
    "    for kind, comparator in comparators_glob:\n",
    "        raw_comparator = glob.glob(os.path.join(root, image_root, comparator))[0]\n",
    "        outfile =  os.path.join(root, image_root, \"veg\", f\"{kind}_aso_veg\")\n",
    "        combine_command = gdal_combine.format(\n",
    "            resampling = 'nearest',\n",
    "            output = outfile, \n",
    "            aso = aso, \n",
    "            comparator = raw_comparator, \n",
    "            veg = os.path.join(root, image_root, \"veg_mask_clipped.vrt\")\n",
    "        )\n",
    "        \n",
    "        Popen(combine_command, shell=True).communicate()\n",
    "        \n",
    "        comparator_combined = rio.open(outfile+'.vrt')\n",
    "        _comparator_data = comparator_combined.read(1, masked=True)\n",
    "        _aso_data = comparator_combined.read(2, masked=True)\n",
    "        _vegmask_data = comparator_combined.read(3, masked=True)\n",
    "        \n",
    "        ## Comparator Veg + NoVeg (+nodata) Masking\n",
    "        comp_nodata = rio.open(raw_comparator).nodata\n",
    "        comp_veg_on_nodata_mask = (\n",
    "            (_vegmask_data.data == 0) |\n",
    "            (_aso_data.mask) |\n",
    "            (_comparator_data.data == comp_nodata)\n",
    "        ).astype(bool)\n",
    "        comp_veg = _comparator_data.copy()\n",
    "        comp_veg.mask = comp_veg_on_nodata_mask\n",
    "        comp_veg_off_nodata_mask = (\n",
    "            (_vegmask_data.data == 1) | \n",
    "            (_aso_data.mask) | \n",
    "            (_comparator_data.data == comp_nodata)\n",
    "        ).astype(bool)\n",
    "        comp_noveg = _comparator_data.copy()\n",
    "        comp_noveg.mask = comp_veg_off_nodata_mask\n",
    "        \n",
    "        ## ASO Veg + NoVeg (+nodata) Masking (For reference; coarsened.)\n",
    "        aso_veg_on_nodata_mask = (\n",
    "            (_vegmask_data.data == 0) | \n",
    "            (_aso_data.mask) | \n",
    "            (_comparator_data.data == comp_nodata)\n",
    "        ).astype(bool)\n",
    "        aso_veg = _aso_data.copy()\n",
    "        aso_veg.mask = aso_veg_on_nodata_mask\n",
    "        aso_veg_off_nodata_mask = (\n",
    "            (_vegmask_data.data == 1) | \n",
    "            (_aso_data.mask) | \n",
    "            (_comparator_data.data == comp_nodata)\n",
    "        ).astype(bool)\n",
    "        aso_noveg = _aso_data.copy()\n",
    "        aso_noveg.mask = aso_veg_off_nodata_mask\n",
    "    \n",
    "\n",
    "        \n",
    "        ## comparison\n",
    "        true_veg, comp_veg = aso_veg[~aso_veg.mask].data, comp_veg[~comp_veg.mask].data\n",
    "        performance_veg = metrics.precision_recall_fscore_support(true_veg, comp_veg, average='binary')\n",
    "        accuracy_veg = metrics.balanced_accuracy_score(true_veg, comp_veg)\n",
    "        \n",
    "        true_noveg, comp_noveg = aso_noveg[~aso_noveg.mask].data, comp_noveg[~comp_noveg.mask].data\n",
    "        performance_noveg = metrics.precision_recall_fscore_support(true_noveg, comp_noveg, average='binary')\n",
    "        accuracy_noveg = metrics.balanced_accuracy_score(true_noveg, comp_noveg)\n",
    "        \n",
    "        ## combine for comparator\n",
    "        combined_veg = pd.DataFrame.from_records(\n",
    "            [list(performance_veg[:3]) + [accuracy_veg]], \n",
    "            columns = ['Precision', 'Recall', 'F-Score', 'Balanced Accuracy']\n",
    "        ).assign(type='Vegetation Only', imageid=imageid)\n",
    "        combined_noveg = pd.DataFrame.from_records(\n",
    "            [list(performance_noveg[:3]) + [accuracy_noveg]], \n",
    "            columns = ['Precision', 'Recall', 'F-Score', 'Balanced Accuracy']\n",
    "        ).assign(type='No Vegetation', imageid=imageid)\n",
    "        \n",
    "        combined = pd.melt(\n",
    "            pd.concat([combined_veg, combined_noveg]),\n",
    "            id_vars = ['type', 'imageid'], \n",
    "            value_vars = ['Precision', 'Recall', 'F-Score', 'Balanced Accuracy']\n",
    "        ).assign(comparator=kind)\n",
    "        \n",
    "        all_results.append(combined)\n",
    "        \n",
    "\n",
    "        \n",
    "        \n",
    "        \n",
    "    \n",
    "        \n",
    "        "
   ]
  },
  {
   "cell_type": "code",
   "execution_count": 19,
   "metadata": {},
   "outputs": [],
   "source": [
    "all_results_df = pd.concat(all_results)"
   ]
  },
  {
   "cell_type": "code",
   "execution_count": 20,
   "metadata": {},
   "outputs": [
    {
     "data": {
      "text/html": [
       "<div>\n",
       "<style scoped>\n",
       "    .dataframe tbody tr th:only-of-type {\n",
       "        vertical-align: middle;\n",
       "    }\n",
       "\n",
       "    .dataframe tbody tr th {\n",
       "        vertical-align: top;\n",
       "    }\n",
       "\n",
       "    .dataframe thead th {\n",
       "        text-align: right;\n",
       "    }\n",
       "</style>\n",
       "<table border=\"1\" class=\"dataframe\">\n",
       "  <thead>\n",
       "    <tr style=\"text-align: right;\">\n",
       "      <th></th>\n",
       "      <th>type</th>\n",
       "      <th>imageid</th>\n",
       "      <th>variable</th>\n",
       "      <th>value</th>\n",
       "      <th>comparator</th>\n",
       "    </tr>\n",
       "  </thead>\n",
       "  <tbody>\n",
       "    <tr>\n",
       "      <th>0</th>\n",
       "      <td>Vegetation Only</td>\n",
       "      <td>20180524_172142_103d_3B_AnalyticMS_SR_clip</td>\n",
       "      <td>Precision</td>\n",
       "      <td>0.948836</td>\n",
       "      <td>ml</td>\n",
       "    </tr>\n",
       "    <tr>\n",
       "      <th>1</th>\n",
       "      <td>No Vegetation</td>\n",
       "      <td>20180524_172142_103d_3B_AnalyticMS_SR_clip</td>\n",
       "      <td>Precision</td>\n",
       "      <td>0.965667</td>\n",
       "      <td>ml</td>\n",
       "    </tr>\n",
       "    <tr>\n",
       "      <th>2</th>\n",
       "      <td>Vegetation Only</td>\n",
       "      <td>20180524_172142_103d_3B_AnalyticMS_SR_clip</td>\n",
       "      <td>Recall</td>\n",
       "      <td>0.768801</td>\n",
       "      <td>ml</td>\n",
       "    </tr>\n",
       "    <tr>\n",
       "      <th>3</th>\n",
       "      <td>No Vegetation</td>\n",
       "      <td>20180524_172142_103d_3B_AnalyticMS_SR_clip</td>\n",
       "      <td>Recall</td>\n",
       "      <td>0.856818</td>\n",
       "      <td>ml</td>\n",
       "    </tr>\n",
       "    <tr>\n",
       "      <th>4</th>\n",
       "      <td>Vegetation Only</td>\n",
       "      <td>20180524_172142_103d_3B_AnalyticMS_SR_clip</td>\n",
       "      <td>F-Score</td>\n",
       "      <td>0.849383</td>\n",
       "      <td>ml</td>\n",
       "    </tr>\n",
       "    <tr>\n",
       "      <th>...</th>\n",
       "      <td>...</td>\n",
       "      <td>...</td>\n",
       "      <td>...</td>\n",
       "      <td>...</td>\n",
       "      <td>...</td>\n",
       "    </tr>\n",
       "    <tr>\n",
       "      <th>3</th>\n",
       "      <td>No Vegetation</td>\n",
       "      <td>20180524_172637_0f2d_3B_AnalyticMS_SR_clip</td>\n",
       "      <td>Recall</td>\n",
       "      <td>0.913689</td>\n",
       "      <td>ls8</td>\n",
       "    </tr>\n",
       "    <tr>\n",
       "      <th>4</th>\n",
       "      <td>Vegetation Only</td>\n",
       "      <td>20180524_172637_0f2d_3B_AnalyticMS_SR_clip</td>\n",
       "      <td>F-Score</td>\n",
       "      <td>0.802420</td>\n",
       "      <td>ls8</td>\n",
       "    </tr>\n",
       "    <tr>\n",
       "      <th>5</th>\n",
       "      <td>No Vegetation</td>\n",
       "      <td>20180524_172637_0f2d_3B_AnalyticMS_SR_clip</td>\n",
       "      <td>F-Score</td>\n",
       "      <td>0.916164</td>\n",
       "      <td>ls8</td>\n",
       "    </tr>\n",
       "    <tr>\n",
       "      <th>6</th>\n",
       "      <td>Vegetation Only</td>\n",
       "      <td>20180524_172637_0f2d_3B_AnalyticMS_SR_clip</td>\n",
       "      <td>Balanced Accuracy</td>\n",
       "      <td>0.830117</td>\n",
       "      <td>ls8</td>\n",
       "    </tr>\n",
       "    <tr>\n",
       "      <th>7</th>\n",
       "      <td>No Vegetation</td>\n",
       "      <td>20180524_172637_0f2d_3B_AnalyticMS_SR_clip</td>\n",
       "      <td>Balanced Accuracy</td>\n",
       "      <td>0.873107</td>\n",
       "      <td>ls8</td>\n",
       "    </tr>\n",
       "  </tbody>\n",
       "</table>\n",
       "<p>288 rows × 5 columns</p>\n",
       "</div>"
      ],
      "text/plain": [
       "               type                                     imageid  \\\n",
       "0   Vegetation Only  20180524_172142_103d_3B_AnalyticMS_SR_clip   \n",
       "1     No Vegetation  20180524_172142_103d_3B_AnalyticMS_SR_clip   \n",
       "2   Vegetation Only  20180524_172142_103d_3B_AnalyticMS_SR_clip   \n",
       "3     No Vegetation  20180524_172142_103d_3B_AnalyticMS_SR_clip   \n",
       "4   Vegetation Only  20180524_172142_103d_3B_AnalyticMS_SR_clip   \n",
       "..              ...                                         ...   \n",
       "3     No Vegetation  20180524_172637_0f2d_3B_AnalyticMS_SR_clip   \n",
       "4   Vegetation Only  20180524_172637_0f2d_3B_AnalyticMS_SR_clip   \n",
       "5     No Vegetation  20180524_172637_0f2d_3B_AnalyticMS_SR_clip   \n",
       "6   Vegetation Only  20180524_172637_0f2d_3B_AnalyticMS_SR_clip   \n",
       "7     No Vegetation  20180524_172637_0f2d_3B_AnalyticMS_SR_clip   \n",
       "\n",
       "             variable     value comparator  \n",
       "0           Precision  0.948836         ml  \n",
       "1           Precision  0.965667         ml  \n",
       "2              Recall  0.768801         ml  \n",
       "3              Recall  0.856818         ml  \n",
       "4             F-Score  0.849383         ml  \n",
       "..                ...       ...        ...  \n",
       "3              Recall  0.913689        ls8  \n",
       "4             F-Score  0.802420        ls8  \n",
       "5             F-Score  0.916164        ls8  \n",
       "6   Balanced Accuracy  0.830117        ls8  \n",
       "7   Balanced Accuracy  0.873107        ls8  \n",
       "\n",
       "[288 rows x 5 columns]"
      ]
     },
     "execution_count": 20,
     "metadata": {},
     "output_type": "execute_result"
    }
   ],
   "source": [
    "all_results_df"
   ]
  },
  {
   "cell_type": "code",
   "execution_count": 6,
   "metadata": {},
   "outputs": [],
   "source": [
    "savepath = os.path.join(root, \"veg/veg_comparison_allimages.csv\")\n",
    "# all_results_df.to_csv(savepath)"
   ]
  },
  {
   "cell_type": "markdown",
   "metadata": {},
   "source": [
    "## Plotting"
   ]
  },
  {
   "cell_type": "code",
   "execution_count": 7,
   "metadata": {},
   "outputs": [
    {
     "name": "stdin",
     "output_type": "stream",
     "text": [
      "Load existing? [y/n]:  y\n"
     ]
    }
   ],
   "source": [
    "if os.path.exists(savepath):\n",
    "    if input(\"Load existing? [y/n]: \") == 'y':\n",
    "        all_results_df = pd.read_csv(savepath)"
   ]
  },
  {
   "cell_type": "code",
   "execution_count": 11,
   "metadata": {},
   "outputs": [],
   "source": [
    "all_results_df = all_results_df.replace({\n",
    "    'ls8' : \"Landsat 8 fSCA\", \n",
    "    's2' : \"Sentinel-2 NDSI\", \n",
    "    'ml' : \"CubeSat ML\"\n",
    "}).rename({\n",
    "    'comparator' : \"SCA\"\n",
    "}, axis=1)"
   ]
  },
  {
   "cell_type": "code",
   "execution_count": 20,
   "metadata": {},
   "outputs": [
    {
     "data": {
      "text/plain": [
       "'<table border=\"1\" class=\"dataframe\">\\n  <thead>\\n    <tr style=\"text-align: right;\">\\n      <th></th>\\n      <th></th>\\n      <th></th>\\n      <th>Mean</th>\\n      <th>Std. Dev.</th>\\n    </tr>\\n    <tr>\\n      <th>SCA</th>\\n      <th>type</th>\\n      <th>variable</th>\\n      <th></th>\\n      <th></th>\\n    </tr>\\n  </thead>\\n  <tbody>\\n    <tr>\\n      <th rowspan=\"8\" valign=\"top\">CubeSat ML</th>\\n      <th rowspan=\"4\" valign=\"top\">No Vegetation</th>\\n      <th>Balanced Accuracy</th>\\n      <td>0.83</td>\\n      <td>0.06</td>\\n    </tr>\\n    <tr>\\n      <th>F-Score</th>\\n      <td>0.82</td>\\n      <td>0.09</td>\\n    </tr>\\n    <tr>\\n      <th>Precision</th>\\n      <td>0.88</td>\\n      <td>0.06</td>\\n    </tr>\\n    <tr>\\n      <th>Recall</th>\\n      <td>0.77</td>\\n      <td>0.13</td>\\n    </tr>\\n    <tr>\\n      <th rowspan=\"4\" valign=\"top\">Vegetation Only</th>\\n      <th>Balanced Accuracy</th>\\n      <td>0.68</td>\\n      <td>0.08</td>\\n    </tr>\\n    <tr>\\n      <th>F-Score</th>\\n      <td>0.55</td>\\n      <td>0.19</td>\\n    </tr>\\n    <tr>\\n      <th>Precision</th>\\n      <td>0.84</td>\\n      <td>0.07</td>\\n    </tr>\\n    <tr>\\n      <th>Recall</th>\\n      <td>0.43</td>\\n      <td>0.20</td>\\n    </tr>\\n    <tr>\\n      <th rowspan=\"8\" valign=\"top\">Landsat 8 fSCA</th>\\n      <th rowspan=\"4\" valign=\"top\">No Vegetation</th>\\n      <th>Balanced Accuracy</th>\\n      <td>0.78</td>\\n      <td>0.12</td>\\n    </tr>\\n    <tr>\\n      <th>F-Score</th>\\n      <td>0.75</td>\\n      <td>0.23</td>\\n    </tr>\\n    <tr>\\n      <th>Precision</th>\\n      <td>0.78</td>\\n      <td>0.20</td>\\n    </tr>\\n    <tr>\\n      <th>Recall</th>\\n      <td>0.73</td>\\n      <td>0.25</td>\\n    </tr>\\n    <tr>\\n      <th rowspan=\"4\" valign=\"top\">Vegetation Only</th>\\n      <th>Balanced Accuracy</th>\\n      <td>0.75</td>\\n      <td>0.09</td>\\n    </tr>\\n    <tr>\\n      <th>F-Score</th>\\n      <td>0.70</td>\\n      <td>0.17</td>\\n    </tr>\\n    <tr>\\n      <th>Precision</th>\\n      <td>0.72</td>\\n      <td>0.15</td>\\n    </tr>\\n    <tr>\\n      <th>Recall</th>\\n      <td>0.68</td>\\n      <td>0.19</td>\\n    </tr>\\n    <tr>\\n      <th rowspan=\"8\" valign=\"top\">Sentinel-2 NDSI</th>\\n      <th rowspan=\"4\" valign=\"top\">No Vegetation</th>\\n      <th>Balanced Accuracy</th>\\n      <td>0.81</td>\\n      <td>0.10</td>\\n    </tr>\\n    <tr>\\n      <th>F-Score</th>\\n      <td>0.77</td>\\n      <td>0.21</td>\\n    </tr>\\n    <tr>\\n      <th>Precision</th>\\n      <td>0.94</td>\\n      <td>0.06</td>\\n    </tr>\\n    <tr>\\n      <th>Recall</th>\\n      <td>0.69</td>\\n      <td>0.24</td>\\n    </tr>\\n    <tr>\\n      <th rowspan=\"4\" valign=\"top\">Vegetation Only</th>\\n      <th>Balanced Accuracy</th>\\n      <td>0.72</td>\\n      <td>0.09</td>\\n    </tr>\\n    <tr>\\n      <th>F-Score</th>\\n      <td>0.60</td>\\n      <td>0.23</td>\\n    </tr>\\n    <tr>\\n      <th>Precision</th>\\n      <td>0.94</td>\\n      <td>0.02</td>\\n    </tr>\\n    <tr>\\n      <th>Recall</th>\\n      <td>0.48</td>\\n      <td>0.24</td>\\n    </tr>\\n  </tbody>\\n</table>'"
      ]
     },
     "execution_count": 20,
     "metadata": {},
     "output_type": "execute_result"
    }
   ],
   "source": [
    "all_results_df.groupby([\n",
    "    'SCA', 'type', 'variable'\n",
    "]).apply(\n",
    "    lambda x: pd.Series([np.mean(x.value), np.std(x.value)])\n",
    ").rename({\n",
    "    0: 'Mean',\n",
    "    1: 'Std. Dev.'\n",
    "}, axis=1).round(2).to_html()"
   ]
  },
  {
   "cell_type": "code",
   "execution_count": 24,
   "metadata": {},
   "outputs": [],
   "source": [
    "one_image = all_results_df[all_results_df.imageid.str.contains(\"20180524_172637_0f2d\")]"
   ]
  },
  {
   "cell_type": "code",
   "execution_count": 25,
   "metadata": {},
   "outputs": [],
   "source": [
    "all_results_df = one_image"
   ]
  },
  {
   "cell_type": "code",
   "execution_count": 26,
   "metadata": {},
   "outputs": [
    {
     "data": {
      "text/plain": [
       "(0, 1)"
      ]
     },
     "execution_count": 26,
     "metadata": {},
     "output_type": "execute_result"
    },
    {
     "data": {
      "image/png": "[encoded data removed]",
      "text/plain": [
       "<Figure size 1085.82x216 with 3 Axes>"
      ]
     },
     "metadata": {},
     "output_type": "display_data"
    }
   ],
   "source": [
    "sns.set(style='ticks')\n",
    "# plt.rc('text', usetex=True)\n",
    "\n",
    "\n",
    "retval = sns.catplot(x='variable', y='value', hue='type', kind='box', col='comparator', data=all_results_df, hue_order=['Vegetation Only', \"No Vegetation\"], palette='Greens_r', dodge=True, height=3, aspect=1.5)\n",
    "sns.despine()\n",
    "h,l = retval.axes[0][0].get_legend_handles_labels()\n",
    "retval._legend.remove()\n",
    "retval.fig.legend(h,l, ncol=2, loc='lower center') # you can specify any location parameter you want here\n",
    "# plt.savefig(\"comparator_veg.png\", dpi=300, bbox_inches='tight')\n",
    "plt.tight_layout()\n",
    "# retval.fig.add_axes([0, 0, 0.2, 0.2])\n",
    "plt.ylim([0, 1])"
   ]
  },
  {
   "cell_type": "code",
   "execution_count": 27,
   "metadata": {},
   "outputs": [],
   "source": [
    "all_results_df = all_results_df.replace({\n",
    "    'ls8' : \"Landsat 8 fSCA\", \n",
    "    's2' : \"Sentinel-2 NDSI\", \n",
    "    'ml' : \"CubeSat ML\"\n",
    "}).rename({\n",
    "    'comparator' : \"SCA\"\n",
    "}, axis=1)"
   ]
  },
  {
   "cell_type": "code",
   "execution_count": 28,
   "metadata": {},
   "outputs": [],
   "source": [
    "colors = [\n",
    "    \"tab:green\", # veg,\n",
    "    \"tab:brown\",\n",
    "    \"tab:orange\"\n",
    "    #     'grey'#     cm.Greens(0.3), # veg,\n",
    "\n",
    "]\n",
    "cmap = sns.color_palette(colors)"
   ]
  },
  {
   "cell_type": "code",
   "execution_count": 29,
   "metadata": {},
   "outputs": [],
   "source": [
    "resolutions = {\n",
    "    \"CubeSat ML\" : \"3 m\",\n",
    "    \"Sentinel-2 NDSI\": \"10 m\",\n",
    "    \"Landsat 8 fSCA\": \"30 m\"\n",
    "}"
   ]
  },
  {
   "cell_type": "code",
   "execution_count": null,
   "metadata": {},
   "outputs": [],
   "source": []
  },
  {
   "cell_type": "code",
   "execution_count": 37,
   "metadata": {},
   "outputs": [
    {
     "data": {
      "image/png": "[encoded data removed]",
      "text/plain": [
       "<Figure size 1095.21x266.4 with 3 Axes>"
      ]
     },
     "metadata": {},
     "output_type": "display_data"
    }
   ],
   "source": [
    "import matplotlib \n",
    "import seaborn as sns\n",
    "sns.set(style='ticks', font_scale=1.1)\n",
    "# sns.set(font_scale=1.7, style='ticks')\n",
    "\n",
    "matplotlib.rc('text', usetex=True)\n",
    "matplotlib.rcParams['text.latex.preamble']=[r\"\\usepackage{amsmath}\"]\n",
    "plot = sns.catplot(x='variable', y='value', hue='type', kind='bar', ci='sd', col='SCA', data=all_results_df,\n",
    "                     col_order=[\"CubeSat ML\", \"Sentinel-2 NDSI\", \"Landsat 8 fSCA\"], \n",
    "                     hue_order=['Vegetation Only', \"No Vegetation\"],\n",
    "                     palette=cmap, \n",
    "                     height=3, aspect=1.5, capsize=0.1, errwidth=1)\n",
    "\n",
    "[ax.set_xlabel(\"Metric\") for ax in list(plot.axes)[0]]\n",
    "h,l = plot.axes[0][0].get_legend_handles_labels()\n",
    "l = [\n",
    "    r\"Tree Canopy Present\",\n",
    "    r\"Tree Canopy Absent\",\n",
    "]\n",
    "plot._legend.remove()\n",
    "plot.fig.legend(h,l, ncol=3, loc='center', bbox_to_anchor=(0.5,0.05), frameon=True, fancybox=False) # you can specify any location parameter you want here\n",
    "\n",
    "# plot.set_titles(template='')\n",
    "for i, ax in enumerate(plot.axes[0]):\n",
    "    title = ax.get_title().split(\" = \")[1]\n",
    "    ax.set_title(r\"$\\textbf{\" + ascii_uppercase[i] + r\"})$ \" + f\"{title} (\" + resolutions[title] + \")\", loc='left', fontsize=15)\n",
    "plot.set_titles(template='')\n",
    "\n",
    "plot.set(ylim=[0, 1])\n",
    "\n",
    "plot.fig.set_figheight(plot.fig.bbox_inches.bounds[3] + 0.7)\n",
    "# plt.tight_layout()\n",
    "plt.savefig(\"co_comparator_veg_one.png\", dpi=300, bbox_inches='tight', )\n",
    "\n"
   ]
  },
  {
   "cell_type": "code",
   "execution_count": 18,
   "metadata": {},
   "outputs": [],
   "source": [
    "all_results_df.to_csv(os.path.join(root, \"veg/veg_comparison_allimages.csv\"))"
   ]
  },
  {
   "cell_type": "code",
   "execution_count": 29,
   "metadata": {},
   "outputs": [
    {
     "data": {
      "text/html": [
       "<div>\n",
       "<style scoped>\n",
       "    .dataframe tbody tr th:only-of-type {\n",
       "        vertical-align: middle;\n",
       "    }\n",
       "\n",
       "    .dataframe tbody tr th {\n",
       "        vertical-align: top;\n",
       "    }\n",
       "\n",
       "    .dataframe thead th {\n",
       "        text-align: right;\n",
       "    }\n",
       "</style>\n",
       "<table border=\"1\" class=\"dataframe\">\n",
       "  <thead>\n",
       "    <tr style=\"text-align: right;\">\n",
       "      <th></th>\n",
       "      <th>type</th>\n",
       "      <th>variable</th>\n",
       "      <th>value</th>\n",
       "      <th>SCA</th>\n",
       "    </tr>\n",
       "  </thead>\n",
       "  <tbody>\n",
       "    <tr>\n",
       "      <th>0</th>\n",
       "      <td>Vegetation Only</td>\n",
       "      <td>Precision</td>\n",
       "      <td>0.948836</td>\n",
       "      <td>CubeSat ML</td>\n",
       "    </tr>\n",
       "    <tr>\n",
       "      <th>1</th>\n",
       "      <td>No Vegetation</td>\n",
       "      <td>Precision</td>\n",
       "      <td>0.965667</td>\n",
       "      <td>CubeSat ML</td>\n",
       "    </tr>\n",
       "    <tr>\n",
       "      <th>2</th>\n",
       "      <td>Vegetation Only</td>\n",
       "      <td>Recall</td>\n",
       "      <td>0.768801</td>\n",
       "      <td>CubeSat ML</td>\n",
       "    </tr>\n",
       "    <tr>\n",
       "      <th>3</th>\n",
       "      <td>No Vegetation</td>\n",
       "      <td>Recall</td>\n",
       "      <td>0.856818</td>\n",
       "      <td>CubeSat ML</td>\n",
       "    </tr>\n",
       "    <tr>\n",
       "      <th>4</th>\n",
       "      <td>Vegetation Only</td>\n",
       "      <td>F-Score</td>\n",
       "      <td>0.849383</td>\n",
       "      <td>CubeSat ML</td>\n",
       "    </tr>\n",
       "    <tr>\n",
       "      <th>...</th>\n",
       "      <td>...</td>\n",
       "      <td>...</td>\n",
       "      <td>...</td>\n",
       "      <td>...</td>\n",
       "    </tr>\n",
       "    <tr>\n",
       "      <th>3</th>\n",
       "      <td>No Vegetation</td>\n",
       "      <td>Recall</td>\n",
       "      <td>0.913689</td>\n",
       "      <td>Landsat 8 fSCA</td>\n",
       "    </tr>\n",
       "    <tr>\n",
       "      <th>4</th>\n",
       "      <td>Vegetation Only</td>\n",
       "      <td>F-Score</td>\n",
       "      <td>0.802420</td>\n",
       "      <td>Landsat 8 fSCA</td>\n",
       "    </tr>\n",
       "    <tr>\n",
       "      <th>5</th>\n",
       "      <td>No Vegetation</td>\n",
       "      <td>F-Score</td>\n",
       "      <td>0.916164</td>\n",
       "      <td>Landsat 8 fSCA</td>\n",
       "    </tr>\n",
       "    <tr>\n",
       "      <th>6</th>\n",
       "      <td>Vegetation Only</td>\n",
       "      <td>Balanced Accuracy</td>\n",
       "      <td>0.830117</td>\n",
       "      <td>Landsat 8 fSCA</td>\n",
       "    </tr>\n",
       "    <tr>\n",
       "      <th>7</th>\n",
       "      <td>No Vegetation</td>\n",
       "      <td>Balanced Accuracy</td>\n",
       "      <td>0.873107</td>\n",
       "      <td>Landsat 8 fSCA</td>\n",
       "    </tr>\n",
       "  </tbody>\n",
       "</table>\n",
       "<p>288 rows × 4 columns</p>\n",
       "</div>"
      ],
      "text/plain": [
       "               type           variable     value             SCA\n",
       "0   Vegetation Only          Precision  0.948836      CubeSat ML\n",
       "1     No Vegetation          Precision  0.965667      CubeSat ML\n",
       "2   Vegetation Only             Recall  0.768801      CubeSat ML\n",
       "3     No Vegetation             Recall  0.856818      CubeSat ML\n",
       "4   Vegetation Only            F-Score  0.849383      CubeSat ML\n",
       "..              ...                ...       ...             ...\n",
       "3     No Vegetation             Recall  0.913689  Landsat 8 fSCA\n",
       "4   Vegetation Only            F-Score  0.802420  Landsat 8 fSCA\n",
       "5     No Vegetation            F-Score  0.916164  Landsat 8 fSCA\n",
       "6   Vegetation Only  Balanced Accuracy  0.830117  Landsat 8 fSCA\n",
       "7     No Vegetation  Balanced Accuracy  0.873107  Landsat 8 fSCA\n",
       "\n",
       "[288 rows x 4 columns]"
      ]
     },
     "execution_count": 29,
     "metadata": {},
     "output_type": "execute_result"
    }
   ],
   "source": [
    "all_results_df\n"
   ]
  },
  {
   "cell_type": "code",
   "execution_count": 48,
   "metadata": {},
   "outputs": [
    {
     "name": "stderr",
     "output_type": "stream",
     "text": [
      "100%|██████████| 12/12 [01:15<00:00,  6.28s/it]\n"
     ]
    }
   ],
   "source": [
    "percentages = []\n",
    "for image_root in tqdm.tqdm(image_dirs):\n",
    "    raw_comparator = os.path.join(image_root, \"veg\", \"ml_aso_veg.vrt\")\n",
    "    comparator_combined = rio.open(raw_comparator)\n",
    "    _comparator_data = comparator_combined.read(1, masked=True)\n",
    "    _aso_data = comparator_combined.read(2, masked=True)\n",
    "    _vegmask_data = comparator_combined.read(3, masked=True)\n",
    "    \n",
    "    _, (nd, noveg_count, veg_count) = np.unique(_vegmask_data.data, return_counts=True)\n",
    "    percentages.append(veg_count / (noveg_count + veg_count))\n"
   ]
  },
  {
   "cell_type": "code",
   "execution_count": 53,
   "metadata": {},
   "outputs": [
    {
     "data": {
      "text/plain": [
       "0.5486367133797911"
      ]
     },
     "execution_count": 53,
     "metadata": {},
     "output_type": "execute_result"
    }
   ],
   "source": [
    "percentages[-1]"
   ]
  },
  {
   "cell_type": "code",
   "execution_count": null,
   "metadata": {},
   "outputs": [],
   "source": []
  }
 ],
 "metadata": {
  "kernelspec": {
   "display_name": "Python [conda env:process_results]",
   "language": "python",
   "name": "conda-env-process_results-py"
  },
  "language_info": {
   "codemirror_mode": {
    "name": "ipython",
    "version": 3
   },
   "file_extension": ".py",
   "mimetype": "text/x-python",
   "name": "python",
   "nbconvert_exporter": "python",
   "pygments_lexer": "ipython3",
   "version": "3.6.8"
  }
 },
 "nbformat": 4,
 "nbformat_minor": 4
}
