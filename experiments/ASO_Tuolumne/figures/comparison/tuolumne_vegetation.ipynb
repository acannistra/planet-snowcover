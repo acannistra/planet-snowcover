{
 "cells": [
  {
   "cell_type": "code",
   "execution_count": 30,
   "metadata": {},
   "outputs": [],
   "source": [
    "import sys\n",
    "import os\n",
    "\n",
    "import pandas as pd\n",
    "import numpy as np\n",
    "\n",
    "from string import ascii_uppercase\n",
    "\n",
    "\n",
    "import rasterio as rio\n",
    "\n",
    "import matplotlib.pyplot as plt\n",
    "import seaborn as sns\n",
    "\n",
    "\n",
    "from sklearn import metrics\n",
    "\n",
    "import glob\n",
    "import tqdm\n",
    "\n",
    "from subprocess import Popen\n",
    "\n",
    "%matplotlib inline"
   ]
  },
  {
   "cell_type": "markdown",
   "metadata": {},
   "source": [
    "# Vegetation Mask Comparisions"
   ]
  },
  {
   "cell_type": "code",
   "execution_count": 61,
   "metadata": {},
   "outputs": [],
   "source": [
    "root = \"/Volumes/wrangell-st-elias/research/planet/tuol-reruns-v2/ASO_3M_SD_USCATE_20180528/\""
   ]
  },
  {
   "cell_type": "code",
   "execution_count": 62,
   "metadata": {},
   "outputs": [],
   "source": [
    "vegmask = os.path.join(root, \"veg/USCATB20140827_CHM_1m_thresh_4326.tif\")"
   ]
  },
  {
   "cell_type": "code",
   "execution_count": 63,
   "metadata": {},
   "outputs": [],
   "source": [
    "image_ids = open(os.path.join(root, \"selected_images_rework.txt\")).read().strip().split('\\n')"
   ]
  },
  {
   "cell_type": "code",
   "execution_count": 64,
   "metadata": {},
   "outputs": [
    {
     "data": {
      "text/plain": [
       "['181108', '181109', '181110', '181111', '181112', '181113']"
      ]
     },
     "execution_count": 64,
     "metadata": {},
     "output_type": "execute_result"
    }
   ],
   "source": [
    "image_ids"
   ]
  },
  {
   "cell_type": "markdown",
   "metadata": {},
   "source": [
    "## Clip veg to individual images"
   ]
  },
  {
   "cell_type": "code",
   "execution_count": 48,
   "metadata": {},
   "outputs": [],
   "source": [
    "gdal_clip = \"gdalwarp -dstnodata 9999 -cutline {cutline} -crop_to_cutline {vegmask} {vegmask_clipped}\"\n",
    "for image_id in image_ids:\n",
    "    image_root = glob.glob(os.path.join(root, f\"*{image_id}*\"))[0]\n",
    "    gdal_clip_cmd = gdal_clip.format(\n",
    "        cutline = os.path.join(image_root, 'data-mask.geojson'),\n",
    "        vegmask = vegmask,\n",
    "        vegmask_clipped = os.path.join(image_root, 'veg_mask_clipped.vrt')\n",
    "    )\n",
    "    Popen(gdal_clip_cmd, shell=True).communicate()\n"
   ]
  },
  {
   "cell_type": "markdown",
   "metadata": {},
   "source": [
    "## Resample + Clip all Metrics in all Images"
   ]
  },
  {
   "cell_type": "code",
   "execution_count": 55,
   "metadata": {},
   "outputs": [],
   "source": [
    "gdal_combine = \"gdalbuildvrt -overwrite -resolution lowest \" \\\n",
    "               \"-separate -r {resampling} -vrtnodata '-9999 -9999 -9999' \" \\\n",
    "               \"{output}.vrt {comparator} {aso} {veg}\"\n",
    "        "
   ]
  },
  {
   "cell_type": "code",
   "execution_count": 65,
   "metadata": {},
   "outputs": [],
   "source": [
    "all_results = []\n",
    "aso_glob = \"*/ASO_merged.tif\"\n",
    "comparators_glob = [\n",
    "    ('ml', \"*/*SR_clip_merged.tif\"),\n",
    "    ('s2', \"*/*NDSI*.tif\"),\n",
    "    ('ls8', \"*/LC08*.tif\")\n",
    "]"
   ]
  },
  {
   "cell_type": "code",
   "execution_count": 67,
   "metadata": {},
   "outputs": [
    {
     "name": "stderr",
     "output_type": "stream",
     "text": [
      "100%|██████████| 6/6 [04:35<00:00, 45.87s/it]\n"
     ]
    }
   ],
   "source": [
    "# for each image, need to build {pred, aso, pred} file at coarsest resolution.\n",
    "\n",
    "for image_id in tqdm.tqdm(image_ids):\n",
    "    image_root = glob.glob(os.path.join(root, f\"*{image_id}*\"))[0]\n",
    "    os.makedirs(os.path.join(root, image_root, \"veg\"), exist_ok=True)\n",
    "    aso = glob.glob(os.path.join(root, image_root, aso_glob))[0]\n",
    "    for kind, comparator in comparators_glob:\n",
    "        raw_comparator = glob.glob(os.path.join(root, image_root, comparator))[0]\n",
    "        outfile =  os.path.join(root, image_root, \"veg\", f\"{kind}_aso_veg\")\n",
    "        combine_command = gdal_combine.format(\n",
    "            resampling = 'nearest',\n",
    "            output = outfile, \n",
    "            aso = aso, \n",
    "            comparator = raw_comparator, \n",
    "            veg = os.path.join(root, image_root, \"veg_mask_clipped.vrt\")\n",
    "        )\n",
    "        Popen(combine_command, shell=True).communicate()\n",
    "        \n",
    "        comparator_combined = rio.open(outfile+'.vrt')\n",
    "        _comparator_data = comparator_combined.read(1, masked=True)\n",
    "        _aso_data = comparator_combined.read(2, masked=True)\n",
    "        _vegmask_data = comparator_combined.read(3, masked=True)\n",
    "        \n",
    "        ## Comparator Veg + NoVeg (+nodata) Masking\n",
    "        comp_nodata = rio.open(raw_comparator).nodata\n",
    "        comp_veg_on_nodata_mask = (\n",
    "            (_vegmask_data.data == 0) |\n",
    "            (_aso_data.mask) |\n",
    "            (_comparator_data.data == comp_nodata)\n",
    "        ).astype(bool)\n",
    "        comp_veg = _comparator_data.copy()\n",
    "        comp_veg.mask = comp_veg_on_nodata_mask\n",
    "        comp_veg_off_nodata_mask = (\n",
    "            (_vegmask_data.data == 1) | \n",
    "            (_aso_data.mask) | \n",
    "            (_comparator_data.data == comp_nodata)\n",
    "        ).astype(bool)\n",
    "        comp_noveg = _comparator_data.copy()\n",
    "        comp_noveg.mask = comp_veg_off_nodata_mask\n",
    "        \n",
    "        ## ASO Veg + NoVeg (+nodata) Masking (For reference; coarsened.)\n",
    "        aso_veg_on_nodata_mask = (\n",
    "            (_vegmask_data.data == 0) | \n",
    "            (_aso_data.mask) | \n",
    "            (_comparator_data.data == comp_nodata)\n",
    "        ).astype(bool)\n",
    "        aso_veg = _aso_data.copy()\n",
    "        aso_veg.mask = aso_veg_on_nodata_mask\n",
    "        aso_veg_off_nodata_mask = (\n",
    "            (_vegmask_data.data == 1) | \n",
    "            (_aso_data.mask) | \n",
    "            (_comparator_data.data == comp_nodata)\n",
    "        ).astype(bool)\n",
    "        aso_noveg = _aso_data.copy()\n",
    "        aso_noveg.mask = aso_veg_off_nodata_mask\n",
    "    \n",
    "\n",
    "        \n",
    "        \n",
    "        ## comparison\n",
    "        true_veg, comp_veg = aso_veg[~aso_veg.mask].data, comp_veg[~comp_veg.mask].data\n",
    "        performance_veg = metrics.precision_recall_fscore_support(true_veg, comp_veg, average='binary')\n",
    "        accuracy_veg = metrics.balanced_accuracy_score(true_veg, comp_veg)\n",
    "        \n",
    "        true_noveg, comp_noveg = aso_noveg[~aso_noveg.mask].data, comp_noveg[~comp_noveg.mask].data\n",
    "        performance_noveg = metrics.precision_recall_fscore_support(true_noveg, comp_noveg, average='binary')\n",
    "        accuracy_noveg = metrics.balanced_accuracy_score(true_noveg, comp_noveg)\n",
    "        \n",
    "        \n",
    "        \n",
    "        ## combine for comparator\n",
    "        combined_veg = pd.DataFrame.from_records(\n",
    "            [list(performance_veg[:3]) + [accuracy_veg]], \n",
    "            columns = ['Precision', 'Recall', 'F-Score', 'Balanced Accuracy']\n",
    "        ).assign(type='Vegetation Only')\n",
    "        combined_noveg = pd.DataFrame.from_records(\n",
    "            [list(performance_noveg[:3]) + [accuracy_noveg]], \n",
    "            columns = ['Precision', 'Recall', 'F-Score', 'Balanced Accuracy']\n",
    "        ).assign(type='No Vegetation')\n",
    "        \n",
    "        combined = pd.melt(\n",
    "            pd.concat([combined_veg, combined_noveg]),\n",
    "            id_vars = 'type', \n",
    "            value_vars = ['Precision', 'Recall', 'F-Score', 'Balanced Accuracy']\n",
    "        ).assign(comparator=kind, image_id = image_id)\n",
    "        \n",
    "        all_results.append(combined)\n",
    "        \n",
    "\n",
    "        \n",
    "        \n",
    "        \n",
    "    \n",
    "        \n",
    "        "
   ]
  },
  {
   "cell_type": "code",
   "execution_count": 68,
   "metadata": {},
   "outputs": [],
   "source": [
    "all_results_df = pd.concat(all_results)"
   ]
  },
  {
   "cell_type": "code",
   "execution_count": 69,
   "metadata": {},
   "outputs": [
    {
     "data": {
      "text/html": [
       "<div>\n",
       "<style scoped>\n",
       "    .dataframe tbody tr th:only-of-type {\n",
       "        vertical-align: middle;\n",
       "    }\n",
       "\n",
       "    .dataframe tbody tr th {\n",
       "        vertical-align: top;\n",
       "    }\n",
       "\n",
       "    .dataframe thead th {\n",
       "        text-align: right;\n",
       "    }\n",
       "</style>\n",
       "<table border=\"1\" class=\"dataframe\">\n",
       "  <thead>\n",
       "    <tr style=\"text-align: right;\">\n",
       "      <th></th>\n",
       "      <th>type</th>\n",
       "      <th>variable</th>\n",
       "      <th>value</th>\n",
       "      <th>comparator</th>\n",
       "      <th>image_id</th>\n",
       "    </tr>\n",
       "  </thead>\n",
       "  <tbody>\n",
       "    <tr>\n",
       "      <th>0</th>\n",
       "      <td>Vegetation Only</td>\n",
       "      <td>Precision</td>\n",
       "      <td>0.363777</td>\n",
       "      <td>ml</td>\n",
       "      <td>181108</td>\n",
       "    </tr>\n",
       "    <tr>\n",
       "      <th>1</th>\n",
       "      <td>No Vegetation</td>\n",
       "      <td>Precision</td>\n",
       "      <td>0.365132</td>\n",
       "      <td>ml</td>\n",
       "      <td>181108</td>\n",
       "    </tr>\n",
       "    <tr>\n",
       "      <th>2</th>\n",
       "      <td>Vegetation Only</td>\n",
       "      <td>Recall</td>\n",
       "      <td>0.951001</td>\n",
       "      <td>ml</td>\n",
       "      <td>181108</td>\n",
       "    </tr>\n",
       "    <tr>\n",
       "      <th>3</th>\n",
       "      <td>No Vegetation</td>\n",
       "      <td>Recall</td>\n",
       "      <td>0.951138</td>\n",
       "      <td>ml</td>\n",
       "      <td>181108</td>\n",
       "    </tr>\n",
       "    <tr>\n",
       "      <th>4</th>\n",
       "      <td>Vegetation Only</td>\n",
       "      <td>F-Score</td>\n",
       "      <td>0.526252</td>\n",
       "      <td>ml</td>\n",
       "      <td>181108</td>\n",
       "    </tr>\n",
       "    <tr>\n",
       "      <th>...</th>\n",
       "      <td>...</td>\n",
       "      <td>...</td>\n",
       "      <td>...</td>\n",
       "      <td>...</td>\n",
       "      <td>...</td>\n",
       "    </tr>\n",
       "    <tr>\n",
       "      <th>3</th>\n",
       "      <td>No Vegetation</td>\n",
       "      <td>Recall</td>\n",
       "      <td>0.723059</td>\n",
       "      <td>ls8</td>\n",
       "      <td>181113</td>\n",
       "    </tr>\n",
       "    <tr>\n",
       "      <th>4</th>\n",
       "      <td>Vegetation Only</td>\n",
       "      <td>F-Score</td>\n",
       "      <td>0.664331</td>\n",
       "      <td>ls8</td>\n",
       "      <td>181113</td>\n",
       "    </tr>\n",
       "    <tr>\n",
       "      <th>5</th>\n",
       "      <td>No Vegetation</td>\n",
       "      <td>F-Score</td>\n",
       "      <td>0.734694</td>\n",
       "      <td>ls8</td>\n",
       "      <td>181113</td>\n",
       "    </tr>\n",
       "    <tr>\n",
       "      <th>6</th>\n",
       "      <td>Vegetation Only</td>\n",
       "      <td>Balanced Accuracy</td>\n",
       "      <td>0.848177</td>\n",
       "      <td>ls8</td>\n",
       "      <td>181113</td>\n",
       "    </tr>\n",
       "    <tr>\n",
       "      <th>7</th>\n",
       "      <td>No Vegetation</td>\n",
       "      <td>Balanced Accuracy</td>\n",
       "      <td>0.835735</td>\n",
       "      <td>ls8</td>\n",
       "      <td>181113</td>\n",
       "    </tr>\n",
       "  </tbody>\n",
       "</table>\n",
       "<p>144 rows × 5 columns</p>\n",
       "</div>"
      ],
      "text/plain": [
       "               type           variable     value comparator image_id\n",
       "0   Vegetation Only          Precision  0.363777         ml   181108\n",
       "1     No Vegetation          Precision  0.365132         ml   181108\n",
       "2   Vegetation Only             Recall  0.951001         ml   181108\n",
       "3     No Vegetation             Recall  0.951138         ml   181108\n",
       "4   Vegetation Only            F-Score  0.526252         ml   181108\n",
       "..              ...                ...       ...        ...      ...\n",
       "3     No Vegetation             Recall  0.723059        ls8   181113\n",
       "4   Vegetation Only            F-Score  0.664331        ls8   181113\n",
       "5     No Vegetation            F-Score  0.734694        ls8   181113\n",
       "6   Vegetation Only  Balanced Accuracy  0.848177        ls8   181113\n",
       "7     No Vegetation  Balanced Accuracy  0.835735        ls8   181113\n",
       "\n",
       "[144 rows x 5 columns]"
      ]
     },
     "execution_count": 69,
     "metadata": {},
     "output_type": "execute_result"
    }
   ],
   "source": [
    "all_results_df"
   ]
  },
  {
   "cell_type": "code",
   "execution_count": 70,
   "metadata": {},
   "outputs": [
    {
     "data": {
      "text/plain": [
       "(0, 1)"
      ]
     },
     "execution_count": 70,
     "metadata": {},
     "output_type": "execute_result"
    },
    {
     "data": {
      "image/png": "[encoded data removed]",
      "text/plain": [
       "<Figure size 1090.1x216 with 3 Axes>"
      ]
     },
     "metadata": {},
     "output_type": "display_data"
    }
   ],
   "source": [
    "sns.set(style='ticks')\n",
    "# plt.rc('text', usetex=True)\n",
    "\n",
    "\n",
    "retval = sns.catplot(x='variable', y='value', hue='type', kind='box', col='comparator', data=all_results_df, hue_order=['Vegetation Only', \"No Vegetation\"], palette='Greens_r', dodge=True, height=3, aspect=1.5)\n",
    "sns.despine()\n",
    "h,l = retval.axes[0][0].get_legend_handles_labels()\n",
    "retval._legend.remove()\n",
    "retval.fig.legend(h,l, ncol=2, loc='lower center') # you can specify any location parameter you want here\n",
    "# plt.savefig(\"comparator_veg.png\", dpi=300, bbox_inches='tight')\n",
    "plt.tight_layout()\n",
    "# retval.fig.add_axes([0, 0, 0.2, 0.2])\n",
    "plt.ylim([0, 1])"
   ]
  },
  {
   "cell_type": "code",
   "execution_count": 71,
   "metadata": {},
   "outputs": [],
   "source": [
    "all_results_df = all_results_df.replace({\n",
    "    'ls8' : \"Landsat 8 fSCA\", \n",
    "    's2' : \"Sentinel-2 NDSI\", \n",
    "    'ml' : \"CubeSat ML\"\n",
    "}).rename({\n",
    "    'comparator' : \"SCA\"\n",
    "}, axis=1)"
   ]
  },
  {
   "cell_type": "code",
   "execution_count": 72,
   "metadata": {},
   "outputs": [],
   "source": [
    "colors = [\n",
    "    \"tab:green\", # veg,\n",
    "    \"tab:brown\",\n",
    "    \"tab:orange\"\n",
    "    #     'grey'#     cm.Greens(0.3), # veg,\n",
    "\n",
    "]\n",
    "cmap = sns.color_palette(colors)"
   ]
  },
  {
   "cell_type": "code",
   "execution_count": 73,
   "metadata": {},
   "outputs": [],
   "source": [
    "resolutions = {\n",
    "    \"CubeSat ML\" : \"3 m\",\n",
    "    \"Sentinel-2 NDSI\": \"10 m\",\n",
    "    \"Landsat 8 fSCA\": \"30 m\"\n",
    "}"
   ]
  },
  {
   "cell_type": "code",
   "execution_count": 95,
   "metadata": {},
   "outputs": [
    {
     "data": {
      "image/png": "[encoded data removed]",
      "text/plain": [
       "<Figure size 1085.82x266.4 with 3 Axes>"
      ]
     },
     "metadata": {},
     "output_type": "display_data"
    }
   ],
   "source": [
    "import matplotlib \n",
    "matplotlib.rc('text', usetex=True)\n",
    "matplotlib.rcParams['text.latex.preamble']=[r\"\\usepackage{amsmath}\"]\n",
    "plot = sns.catplot(x='variable', y='value', hue='type', kind='bar', ci='sd', col='SCA', data=all_results_df,\n",
    "                     col_order=[\"CubeSat ML\", \"Sentinel-2 NDSI\", \"Landsat 8 fSCA\"], \n",
    "                     hue_order=['Vegetation Only', \"No Vegetation\"],\n",
    "                     palette=cmap, \n",
    "                     height=3, aspect=1.5, capsize=0.1, errwidth=1)\n",
    "\n",
    "[ax.set_xlabel(\"Metric\") for ax in list(plot.axes)[0]]\n",
    "plot.set(ylim=[0, 1])\n",
    "h,l = plot.axes[0][0].get_legend_handles_labels()\n",
    "l = [\n",
    "    r\"Tree Canopy Present\",\n",
    "    r\"Tree Canopy Absent\",\n",
    "]\n",
    "plot._legend.remove()\n",
    "plot.fig.legend(h,l, ncol=3, loc='center', bbox_to_anchor=(0.5,0.05), frameon=True, fancybox=False) # you can specify any location parameter you want here\n",
    "\n",
    "# plot.set_titles(template='')\n",
    "for i, ax in enumerate(plot.axes[0]):\n",
    "    title = ax.get_title().split(\" = \")[1]\n",
    "    ax.set_title(r\"$\\textbf{\" + ascii_uppercase[i] + r\"})$ \" + f\"{title} (\" + resolutions[title] + \")\", loc='left', fontsize=15)\n",
    "plot.set_titles(template='')\n",
    "\n",
    "\n",
    "\n",
    "plot.fig.set_figheight(plot.fig.bbox_inches.bounds[3] + 0.7)\n",
    "# plt.tight_layout()\n",
    "plt.savefig(\"comparator_veg_all.png\", dpi=300, bbox_inches='tight', )\n",
    "\n"
   ]
  },
  {
   "cell_type": "code",
   "execution_count": 75,
   "metadata": {},
   "outputs": [],
   "source": [
    "all_results_df.to_csv(\"veg_comparison.csv\")"
   ]
  },
  {
   "cell_type": "markdown",
   "metadata": {},
   "source": [
    "## Assess vegetation percentage"
   ]
  },
  {
   "cell_type": "code",
   "execution_count": 52,
   "metadata": {},
   "outputs": [
    {
     "name": "stderr",
     "output_type": "stream",
     "text": [
      "100%|██████████| 6/6 [01:24<00:00, 14.05s/it]\n"
     ]
    }
   ],
   "source": [
    "percentages = []\n",
    "for image_id in tqdm.tqdm(image_ids):\n",
    "    image_root = glob.glob(os.path.join(root, f\"*{image_id}*\"))[0]\n",
    "    raw_comparator = os.path.join(image_root, \"veg\", \"ml_aso_veg.vrt\")\n",
    "    comparator_combined = rio.open(raw_comparator)\n",
    "    _comparator_data = comparator_combined.read(1, masked=True)\n",
    "    _aso_data = comparator_combined.read(2, masked=True)\n",
    "    _vegmask_data = comparator_combined.read(3, masked=True)\n",
    "    \n",
    "    _, (nd, noveg_count, veg_count) = np.unique(_vegmask_data.data, return_counts=True)\n",
    "    percentages.append(veg_count / (noveg_count + veg_count))\n"
   ]
  },
  {
   "cell_type": "code",
   "execution_count": 53,
   "metadata": {},
   "outputs": [
    {
     "data": {
      "text/plain": [
       "[0.2597772597772598,\n",
       " 0.23606052437003025,\n",
       " 0.24862637684644187,\n",
       " 0.36448985396210215,\n",
       " 0.5116526813458994,\n",
       " 0.5500308077526872]"
      ]
     },
     "execution_count": 53,
     "metadata": {},
     "output_type": "execute_result"
    }
   ],
   "source": [
    "percentages"
   ]
  },
  {
   "cell_type": "markdown",
   "metadata": {},
   "source": [
    "That last image-id seems to have the most even percentage, so we'll convert the plots to use that image. "
   ]
  },
  {
   "cell_type": "code",
   "execution_count": 2,
   "metadata": {},
   "outputs": [
    {
     "ename": "NameError",
     "evalue": "name 'all_results_df' is not defined",
     "output_type": "error",
     "traceback": [
      "\u001b[0;31m---------------------------------------------------------------------------\u001b[0m",
      "\u001b[0;31mNameError\u001b[0m                                 Traceback (most recent call last)",
      "\u001b[0;32m<ipython-input-2-6ed9f4d72a4c>\u001b[0m in \u001b[0;36m<module>\u001b[0;34m()\u001b[0m\n\u001b[1;32m      5\u001b[0m \u001b[0mmatplotlib\u001b[0m\u001b[0;34m.\u001b[0m\u001b[0mrcParams\u001b[0m\u001b[0;34m[\u001b[0m\u001b[0;34m'text.latex.preamble'\u001b[0m\u001b[0;34m]\u001b[0m\u001b[0;34m=\u001b[0m\u001b[0;34m[\u001b[0m\u001b[0;34mr\"\\usepackage{amsmath}\"\u001b[0m\u001b[0;34m]\u001b[0m\u001b[0;34m\u001b[0m\u001b[0;34m\u001b[0m\u001b[0m\n\u001b[1;32m      6\u001b[0m \u001b[0msns\u001b[0m\u001b[0;34m.\u001b[0m\u001b[0mset\u001b[0m\u001b[0;34m(\u001b[0m\u001b[0mfont_scale\u001b[0m\u001b[0;34m=\u001b[0m\u001b[0;36m2\u001b[0m\u001b[0;34m)\u001b[0m\u001b[0;34m\u001b[0m\u001b[0;34m\u001b[0m\u001b[0m\n\u001b[0;32m----> 7\u001b[0;31m plot = sns.catplot(x='variable', y='value', hue='type', kind='bar', col='SCA', data=all_results_df[all_results_df.image_id == image_ids[-1]],\n\u001b[0m\u001b[1;32m      8\u001b[0m                      \u001b[0mcol_order\u001b[0m\u001b[0;34m=\u001b[0m\u001b[0;34m[\u001b[0m\u001b[0;34m\"CubeSat ML\"\u001b[0m\u001b[0;34m,\u001b[0m \u001b[0;34m\"Sentinel-2 NDSI\"\u001b[0m\u001b[0;34m,\u001b[0m \u001b[0;34m\"Landsat 8 fSCA\"\u001b[0m\u001b[0;34m]\u001b[0m\u001b[0;34m,\u001b[0m\u001b[0;34m\u001b[0m\u001b[0;34m\u001b[0m\u001b[0m\n\u001b[1;32m      9\u001b[0m                      \u001b[0mhue_order\u001b[0m\u001b[0;34m=\u001b[0m\u001b[0;34m[\u001b[0m\u001b[0;34m'Vegetation Only'\u001b[0m\u001b[0;34m,\u001b[0m \u001b[0;34m\"No Vegetation\"\u001b[0m\u001b[0;34m]\u001b[0m\u001b[0;34m,\u001b[0m\u001b[0;34m\u001b[0m\u001b[0;34m\u001b[0m\u001b[0m\n",
      "\u001b[0;31mNameError\u001b[0m: name 'all_results_df' is not defined"
     ]
    }
   ],
   "source": [
    "import matplotlib \n",
    "import seaborn as sns\n",
    "matplotlib.rc('text', usetex=True)\n",
    "\n",
    "matplotlib.rcParams['text.latex.preamble']=[r\"\\usepackage{amsmath}\"]\n",
    "sns.set(font_scale=2)\n",
    "plot = sns.catplot(x='variable', y='value', hue='type', kind='bar', col='SCA', data=all_results_df[all_results_df.image_id == image_ids[-1]],\n",
    "                     col_order=[\"CubeSat ML\", \"Sentinel-2 NDSI\", \"Landsat 8 fSCA\"], \n",
    "                     hue_order=['Vegetation Only', \"No Vegetation\"],\n",
    "                     palette=cmap, \n",
    "                     height=3, aspect=1.5)#, capsize=0.1, errwidth=1)\n",
    "\n",
    "[ax.set_xlabel(\"Metric\") for ax in list(plot.axes)[0]]\n",
    "plot.set(ylim=[0, 1])\n",
    "h,l = plot.axes[0][0].get_legend_handles_labels()\n",
    "l = [\n",
    "    r\"Tree Canopy Present\",\n",
    "    r\"Tree Canopy Absent\",\n",
    "]\n",
    "plot._legend.remove()\n",
    "plot.fig.legend(h,l, ncol=3, loc='center', bbox_to_anchor=(0.5,0.05), frameon=True, fancybox=False) # you can specify any location parameter you want here\n",
    "\n",
    "# plot.set_titles(template='')\n",
    "for i, ax in enumerate(plot.axes[0]):\n",
    "    title = ax.get_title().split(\" = \")[1]\n",
    "    ax.set_title(r\"$\\textbf{\" + ascii_uppercase[i] + r\"})$ \" + f\"{title} (\" + resolutions[title] + \")\", loc='left', fontsize=15)\n",
    "plot.set_titles(template='')\n",
    "\n",
    "\n",
    "\n",
    "plot.fig.set_figheight(plot.fig.bbox_inches.bounds[3] + 0.7)\n",
    "# plt.tight_layout()\n",
    "plt.savefig(\"comparator_veg_all.png\", dpi=300, bbox_inches='tight', )\n",
    "plt.suptitle(f\"imageid = {image_ids[-1]}\")\n"
   ]
  },
  {
   "cell_type": "code",
   "execution_count": 91,
   "metadata": {},
   "outputs": [
    {
     "data": {
      "image/png": "[encoded data removed]",
      "text/plain": [
       "<Figure size 1085.82x266.4 with 3 Axes>"
      ]
     },
     "metadata": {},
     "output_type": "display_data"
    }
   ],
   "source": [
    "import matplotlib \n",
    "matplotlib.rc('text', usetex=True)\n",
    "matplotlib.rcParams['text.latex.preamble']=[r\"\\usepackage{amsmath}\"]\n",
    "plot = sns.catplot(y='variable', x='value', hue='type', kind='strip', col='SCA', data=all_results_df,\n",
    "                     col_order=[\"CubeSat ML\", \"Sentinel-2 NDSI\", \"Landsat 8 fSCA\"], \n",
    "                     hue_order=['Vegetation Only', \"No Vegetation\"],\n",
    "                     palette=cmap, jitter=0, dodge=0.2, alpha=0.4,\n",
    "                     height=3, aspect=1.5)#, capsize=0.1, errwidth=1)\n",
    "\n",
    "[ax.set_xlabel(\"Metric\") for ax in list(plot.axes)[0]]\n",
    "h,l = plot.axes[0][0].get_legend_handles_labels()\n",
    "l = [\n",
    "    r\"Tree Canopy Present\",\n",
    "    r\"Tree Canopy Absent\",\n",
    "]\n",
    "plot._legend.remove()\n",
    "plot.fig.legend(h,l, ncol=3, loc='center', bbox_to_anchor=(0.5,0.05), frameon=True, fancybox=False) # you can specify any location parameter you want here\n",
    "\n",
    "# plot.set_titles(template='')\n",
    "for i, ax in enumerate(plot.axes[0]):\n",
    "    title = ax.get_title().split(\" = \")[1]\n",
    "    ax.set_title(r\"$\\textbf{\" + ascii_uppercase[i] + r\"})$ \" + f\"{title} (\" + resolutions[title] + \")\", loc='left', fontsize=15)\n",
    "plot.set_titles(template='')\n",
    "\n",
    "\n",
    "\n",
    "plot.fig.set_figheight(plot.fig.bbox_inches.bounds[3] + 0.7)\n",
    "# plt.tight_layout()\n",
    "plt.savefig(\"comparator_veg_all.png\", dpi=300, bbox_inches='tight', )\n",
    "\n"
   ]
  },
  {
   "cell_type": "code",
   "execution_count": null,
   "metadata": {},
   "outputs": [],
   "source": []
  }
 ],
 "metadata": {
  "kernelspec": {
   "display_name": "Python [conda env:process_results]",
   "language": "python",
   "name": "conda-env-process_results-py"
  },
  "language_info": {
   "codemirror_mode": {
    "name": "ipython",
    "version": 3
   },
   "file_extension": ".py",
   "mimetype": "text/x-python",
   "name": "python",
   "nbconvert_exporter": "python",
   "pygments_lexer": "ipython3",
   "version": "3.6.8"
  }
 },
 "nbformat": 4,
 "nbformat_minor": 4
}
