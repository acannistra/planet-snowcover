{
 "cells": [
  {
   "cell_type": "code",
   "execution_count": 3,
   "metadata": {},
   "outputs": [
    {
     "name": "stdout",
     "output_type": "stream",
     "text": [
      "image_utils: found API key\n"
     ]
    }
   ],
   "source": [
    "import pandas as pd\n",
    "import geopandas as gpd\n",
    "from shapely.geometry import Point, mapping, shape\n",
    "from imp import reload\n",
    "from numpy import mean\n",
    "from planet_utils import search, download\n",
    "from numpy.random import randint, choice\n",
    "import random\n",
    "import folium\n",
    "import json\n",
    "import requests\n",
    "import os\n",
    "import smart_open\n",
    "from retrying import retry\n",
    "from IPython.display import Image\n",
    "import matplotlib.pyplot as plt\n",
    "import matplotlib.lines as mlines\n",
    "from matplotlib.patches import Circle\n",
    "import numpy as np\n",
    "from multiprocessing.dummy import Pool as ThreadPool \n",
    "\n",
    "plt.rcParams['figure.figsize'] = (20,20)\n",
    "%matplotlib inline\n",
    "\n",
    "#print(os.environ[\"PL_API_KEY\"])\n",
    "NUM_RANDOM_DATES = 10\n",
    "NUM_RANDOM_LOCATIONS = 20"
   ]
  },
  {
   "cell_type": "markdown",
   "metadata": {},
   "source": [
    "# API Search Candidate Selection Protocol\n",
    "The goal of this notebook is to develop the pathway from a set of single-measurement points to a set of cropped PlanetScope imagery for a given date band. \n",
    "\n",
    "## Extract 2017 Measurement Locations"
   ]
  },
  {
   "cell_type": "code",
   "execution_count": 13,
   "metadata": {},
   "outputs": [],
   "source": [
    "snowdata = pd.read_csv(\"../data/snow_summary_all_2009_2017_locs.csv\", \n",
    "                       parse_dates = [\"snow_appearance_date\", \"snow_disappearance_date\", \n",
    "                                      \"date_min\", \"date_max\"])\n",
    "snowdata = snowdata[snowdata.year >= 2017]\n",
    "snowdata['geometry'] = [Point(xy) for xy in zip(snowdata.longitude, snowdata.latitude)]\n",
    "snowdata = gpd.GeoDataFrame(snowdata)\n",
    "snowdata.crs = {'init' : 'epsg:4326'}\n"
   ]
  },
  {
   "cell_type": "code",
   "execution_count": 14,
   "metadata": {},
   "outputs": [],
   "source": [
    "locations = snowdata.dropna(subset=[\"longitude\", 'latitude']).drop_duplicates(\"Location\")\n",
    "\n"
   ]
  },
  {
   "cell_type": "code",
   "execution_count": 15,
   "metadata": {},
   "outputs": [],
   "source": [
    "locations = locations.loc[choice(locations.index, NUM_RANDOM_LOCATIONS, replace=False)]\n"
   ]
  },
  {
   "cell_type": "code",
   "execution_count": 16,
   "metadata": {},
   "outputs": [
    {
     "data": {
      "text/plain": [
       "20"
      ]
     },
     "execution_count": 16,
     "metadata": {},
     "output_type": "execute_result"
    }
   ],
   "source": [
    "len(locations)"
   ]
  },
  {
   "cell_type": "markdown",
   "metadata": {},
   "source": [
    "## Add bounding boxes"
   ]
  },
  {
   "cell_type": "code",
   "execution_count": 17,
   "metadata": {},
   "outputs": [],
   "source": [
    "boxes = locations[['Location', 'geometry']].copy()\n",
    "boxes.geometry = [g.buffer(0.005, cap_style=3) for g in boxes.geometry]"
   ]
  },
  {
   "cell_type": "markdown",
   "metadata": {},
   "source": [
    "## Search"
   ]
  },
  {
   "cell_type": "code",
   "execution_count": 18,
   "metadata": {},
   "outputs": [
    {
     "data": {
      "text/html": [
       "<div>\n",
       "<style scoped>\n",
       "    .dataframe tbody tr th:only-of-type {\n",
       "        vertical-align: middle;\n",
       "    }\n",
       "\n",
       "    .dataframe tbody tr th {\n",
       "        vertical-align: top;\n",
       "    }\n",
       "\n",
       "    .dataframe thead th {\n",
       "        text-align: right;\n",
       "    }\n",
       "</style>\n",
       "<table border=\"1\" class=\"dataframe\">\n",
       "  <thead>\n",
       "    <tr style=\"text-align: right;\">\n",
       "      <th></th>\n",
       "      <th>Location</th>\n",
       "      <th>geometry</th>\n",
       "    </tr>\n",
       "  </thead>\n",
       "  <tbody>\n",
       "    <tr>\n",
       "      <th>1882</th>\n",
       "      <td>TO11-S5</td>\n",
       "      <td>POLYGON ((-121.8822 46.99967, -121.8822 46.989...</td>\n",
       "    </tr>\n",
       "  </tbody>\n",
       "</table>\n",
       "</div>"
      ],
      "text/plain": [
       "     Location                                           geometry\n",
       "1882  TO11-S5  POLYGON ((-121.8822 46.99967, -121.8822 46.989..."
      ]
     },
     "execution_count": 18,
     "metadata": {},
     "output_type": "execute_result"
    }
   ],
   "source": [
    "boxes.sample(1)"
   ]
  },
  {
   "cell_type": "code",
   "execution_count": 21,
   "metadata": {
    "scrolled": true
   },
   "outputs": [
    {
     "name": "stderr",
     "output_type": "stream",
     "text": [
      "Querying Planet API: 100%|██████████| 20/20 [01:09<00:00,  3.46s/searches]\n"
     ]
    }
   ],
   "source": [
    "reload(search)\n",
    "dates = locations[['Location', \"snow_appearance_date\", \"snow_disappearance_date\"]]\n",
    "searcher = search.Search(boxes, dates, dry=False,\n",
    "                         key='Location', start_col='snow_appearance_date',\n",
    "                         end_col=\"snow_disappearance_date\")\n",
    "results = searcher.query()"
   ]
  },
  {
   "cell_type": "markdown",
   "metadata": {},
   "source": [
    "## Parse Results\n",
    "Choose `NUM_RANDOM_DATES` dates from results for each loc"
   ]
  },
  {
   "cell_type": "code",
   "execution_count": 22,
   "metadata": {
    "scrolled": false
   },
   "outputs": [],
   "source": [
    "loc_img_ids = {}\n",
    "for group in results.groupby('loc_id'):\n",
    "    if (len(group[1]) >= NUM_RANDOM_DATES):\n",
    "        loc_img_ids[group[0]] = list(set(choice(group[1].id.values, NUM_RANDOM_DATES, replace=False)))\n",
    "    else:\n",
    "        loc_img_ids[group[0]] = list(set(group[1].id.values))\n",
    "\n"
   ]
  },
  {
   "cell_type": "code",
   "execution_count": 25,
   "metadata": {},
   "outputs": [],
   "source": [
    "CLIP_API_URL = \"https://api.planet.com/compute/ops/clips/v1/\"\n",
    "IMAGEDIR = \"s3://planet-snowcover/tmp/\"\n",
    "PL_API_KEY = os.environ[\"PL_API_KEY\"]"
   ]
  },
  {
   "cell_type": "code",
   "execution_count": 35,
   "metadata": {},
   "outputs": [],
   "source": [
    "def clip_request_and_download(loc, image):\n",
    "\n",
    "    @retry(wait_fixed=5000)\n",
    "    def _check_clip_op(id):\n",
    "        r = requests.get(\"{_base}/{id}\".format(_base = CLIP_API_URL, id=id), auth=(PL_API_KEY, \"\"))\n",
    "        if r.json()['state'] != \"succeeded\":\n",
    "            print(\"...waiting\")\n",
    "            raise Exception(\"Not Yet\")\n",
    "        else:\n",
    "            print(\"response found.\")\n",
    "            return(r.json())\n",
    "    \n",
    "    geom = boxes.loc[loc].geometry\n",
    "        \n",
    "    payload = {\n",
    "        \"aoi\" : mapping(geom),\n",
    "        \"targets\" : [{\n",
    "            \"item_id\" : image, \n",
    "            \"item_type\" : \"PSScene4Band\", \n",
    "            \"asset_type\" : 'analytic'\n",
    "        }]\n",
    "    }\n",
    "\n",
    "    r = requests.post(CLIP_API_URL, auth=(PL_API_KEY, \"\"), json=payload)\n",
    "    print(r.json())\n",
    "    \n",
    "    response = _check_clip_op(r.json()['id'])\n",
    "\n",
    "    image_url = response['_links']['results'][0]\n",
    "    \n",
    "    local_filename = os.path.join(IMAGEDIR, \"{loc}_{img}.zip\".format(loc=loc, img=image))\n",
    "\n",
    "    r = requests.get(image_url, stream=True, auth=(PL_API_KEY, \"\"))\n",
    "    with smart_open.smart_open(local_filename, 'wb', profile_name=\"buckleylab\") as f:\n",
    "        for chunk in r.iter_content(chunk_size=1024): \n",
    "            if chunk: # filter out keep-alive new chunks\n",
    "                f.write(chunk)\n",
    "    return local_filename\n",
    "\n"
   ]
  },
  {
   "cell_type": "code",
   "execution_count": 27,
   "metadata": {},
   "outputs": [
    {
     "data": {
      "text/plain": [
       "20"
      ]
     },
     "execution_count": 27,
     "metadata": {},
     "output_type": "execute_result"
    }
   ],
   "source": [
    "len(loc_img_ids)"
   ]
  },
  {
   "cell_type": "code",
   "execution_count": 31,
   "metadata": {},
   "outputs": [
    {
     "data": {
      "text/plain": [
       "(1216,\n",
       " ['20170105_174052_0c45',\n",
       "  '20170124_181608_0e20',\n",
       "  '20170403_181107_1012',\n",
       "  '20161230_193630_0d06',\n",
       "  '20170115_181452_0e19',\n",
       "  '20161117_181314_0e26',\n",
       "  '20170103_180347_0c41',\n",
       "  '20170305_181650_0e19',\n",
       "  '20170403_181108_1012',\n",
       "  '20170202_181629_0e0f'])"
      ]
     },
     "execution_count": 31,
     "metadata": {},
     "output_type": "execute_result"
    }
   ],
   "source": [
    "list(loc_img_ids.items())[0]"
   ]
  },
  {
   "cell_type": "code",
   "execution_count": 37,
   "metadata": {
    "scrolled": false
   },
   "outputs": [
    {
     "name": "stdout",
     "output_type": "stream",
     "text": [
      "Starting download for image 20170403_181107_1012\n",
      "Starting download for image 20170124_181608_0e20\n",
      "Starting download for image 20161230_193630_0d06\n",
      "Starting download for image 20170105_174052_0c45\n",
      "Starting download for image 20170115_181452_0e19\n",
      "starting...{'aoi': {'type': 'Polygon', 'coordinates': [[[-121.53224, 46.92512000000001], [-121.53224, 46.91512], [-121.54223999999999, 46.91512], [-121.54223999999999, 46.92512000000001], [-121.53224, 46.92512000000001]]]}, 'id': '0bccd108-94e0-4a71-b347-18349c6bb729', 'state': 'running', 'created_on': '2018-12-17T22:42:14.451Z', '_links': {'results': None, '_self': 'https://api.planet.com/compute/ops/clips/v1/0bccd108-94e0-4a71-b347-18349c6bb729'}, 'last_modified': '2018-12-17T22:42:14.451Z', 'targets': [{'item_id': '20170403_181107_1012', 'item_type': 'PSScene4Band', 'asset_type': 'analytic'}]}\n",
      "starting...{'aoi': {'type': 'Polygon', 'coordinates': [[[-121.53224, 46.92512000000001], [-121.53224, 46.91512], [-121.54223999999999, 46.91512], [-121.54223999999999, 46.92512000000001], [-121.53224, 46.92512000000001]]]}, 'id': 'efc3931d-83bb-485e-b258-a65f8ecd813f', 'state': 'running', 'created_on': '2018-12-17T22:42:16.348Z', '_links': {'results': None, '_self': 'https://api.planet.com/compute/ops/clips/v1/efc3931d-83bb-485e-b258-a65f8ecd813f'}, 'last_modified': '2018-12-17T22:42:16.348Z', 'targets': [{'item_id': '20161230_193630_0d06', 'item_type': 'PSScene4Band', 'asset_type': 'analytic'}]}\n",
      "starting...{'aoi': {'type': 'Polygon', 'coordinates': [[[-121.53224, 46.92512000000001], [-121.53224, 46.91512], [-121.54223999999999, 46.91512], [-121.54223999999999, 46.92512000000001], [-121.53224, 46.92512000000001]]]}, 'id': '275ba5fb-c77e-4335-9ec4-02f0c4ced437', 'state': 'running', 'created_on': '2018-12-17T22:42:15.156Z', '_links': {'results': None, '_self': 'https://api.planet.com/compute/ops/clips/v1/275ba5fb-c77e-4335-9ec4-02f0c4ced437'}, 'last_modified': '2018-12-17T22:42:15.156Z', 'targets': [{'item_id': '20170105_174052_0c45', 'item_type': 'PSScene4Band', 'asset_type': 'analytic'}]}\n",
      "Checking url https://api.planet.com/compute/ops/clips/v1//0bccd108-94e0-4a71-b347-18349c6bb729\n",
      "state: running, HTTP status: 200\n",
      "Checking url https://api.planet.com/compute/ops/clips/v1//efc3931d-83bb-485e-b258-a65f8ecd813f\n",
      "state: running, HTTP status: 200\n",
      "Checking url https://api.planet.com/compute/ops/clips/v1//275ba5fb-c77e-4335-9ec4-02f0c4ced437\n",
      "state: running, HTTP status: 200\n",
      "starting...{'aoi': {'type': 'Polygon', 'coordinates': [[[-121.53224, 46.92512000000001], [-121.53224, 46.91512], [-121.54223999999999, 46.91512], [-121.54223999999999, 46.92512000000001], [-121.53224, 46.92512000000001]]]}, 'id': 'eb379d27-62a4-4a66-a9c2-621f808c77d1', 'state': 'running', 'created_on': '2018-12-17T22:42:20.150Z', '_links': {'results': None, '_self': 'https://api.planet.com/compute/ops/clips/v1/eb379d27-62a4-4a66-a9c2-621f808c77d1'}, 'last_modified': '2018-12-17T22:42:20.150Z', 'targets': [{'item_id': '20170115_181452_0e19', 'item_type': 'PSScene4Band', 'asset_type': 'analytic'}]}\n",
      "Checking url https://api.planet.com/compute/ops/clips/v1//eb379d27-62a4-4a66-a9c2-621f808c77d1\n",
      "starting...{'aoi': {'type': 'Polygon', 'coordinates': [[[-121.53224, 46.92512000000001], [-121.53224, 46.91512], [-121.54223999999999, 46.91512], [-121.54223999999999, 46.92512000000001], [-121.53224, 46.92512000000001]]]}, 'id': 'f9a1657a-3fbf-476b-a860-31717d547180', 'state': 'running', 'created_on': '2018-12-17T22:42:20.454Z', '_links': {'results': None, '_self': 'https://api.planet.com/compute/ops/clips/v1/f9a1657a-3fbf-476b-a860-31717d547180'}, 'last_modified': '2018-12-17T22:42:20.454Z', 'targets': [{'item_id': '20170124_181608_0e20', 'item_type': 'PSScene4Band', 'asset_type': 'analytic'}]}\n",
      "state: running, HTTP status: 200\n",
      "Checking url https://api.planet.com/compute/ops/clips/v1//f9a1657a-3fbf-476b-a860-31717d547180\n",
      "state: running, HTTP status: 200\n",
      "Checking url https://api.planet.com/compute/ops/clips/v1//efc3931d-83bb-485e-b258-a65f8ecd813f\n",
      "Checking url https://api.planet.com/compute/ops/clips/v1//0bccd108-94e0-4a71-b347-18349c6bb729\n",
      "state: running, HTTP status: 200\n",
      "state: running, HTTP status: 200\n",
      "Checking url https://api.planet.com/compute/ops/clips/v1//275ba5fb-c77e-4335-9ec4-02f0c4ced437\n",
      "state: running, HTTP status: 200\n",
      "Checking url https://api.planet.com/compute/ops/clips/v1//eb379d27-62a4-4a66-a9c2-621f808c77d1\n",
      "state: running, HTTP status: 200\n",
      "Checking url https://api.planet.com/compute/ops/clips/v1//f9a1657a-3fbf-476b-a860-31717d547180\n",
      "state: running, HTTP status: 200\n",
      "Checking url https://api.planet.com/compute/ops/clips/v1//efc3931d-83bb-485e-b258-a65f8ecd813f\n",
      "Checking url https://api.planet.com/compute/ops/clips/v1//0bccd108-94e0-4a71-b347-18349c6bb729\n",
      "state: running, HTTP status: 200\n",
      "state: running, HTTP status: 200\n",
      "Checking url https://api.planet.com/compute/ops/clips/v1//275ba5fb-c77e-4335-9ec4-02f0c4ced437\n",
      "state: running, HTTP status: 200\n",
      "Checking url https://api.planet.com/compute/ops/clips/v1//eb379d27-62a4-4a66-a9c2-621f808c77d1\n",
      "response found.\n",
      "Checking url https://api.planet.com/compute/ops/clips/v1//f9a1657a-3fbf-476b-a860-31717d547180\n",
      "state: running, HTTP status: 200\n",
      "Checking url https://api.planet.com/compute/ops/clips/v1//0bccd108-94e0-4a71-b347-18349c6bb729\n",
      "Checking url https://api.planet.com/compute/ops/clips/v1//efc3931d-83bb-485e-b258-a65f8ecd813f\n",
      "response found.\n",
      "response found.\n",
      "Starting download for image 20161117_181314_0e26\n",
      "Checking url https://api.planet.com/compute/ops/clips/v1//275ba5fb-c77e-4335-9ec4-02f0c4ced437\n",
      "response found.\n",
      "Starting download for image 20170103_180347_0c41\n",
      "Starting download for image 20170305_181650_0e19\n",
      "Checking url https://api.planet.com/compute/ops/clips/v1//f9a1657a-3fbf-476b-a860-31717d547180\n",
      "response found.\n",
      "starting...{'aoi': {'type': 'Polygon', 'coordinates': [[[-121.53224, 46.92512000000001], [-121.53224, 46.91512], [-121.54223999999999, 46.91512], [-121.54223999999999, 46.92512000000001], [-121.53224, 46.92512000000001]]]}, 'id': 'c93a2753-d442-486d-868b-b1b5a22465aa', 'state': 'running', 'created_on': '2018-12-17T22:42:40.855Z', '_links': {'results': None, '_self': 'https://api.planet.com/compute/ops/clips/v1/c93a2753-d442-486d-868b-b1b5a22465aa'}, 'last_modified': '2018-12-17T22:42:40.855Z', 'targets': [{'item_id': '20161117_181314_0e26', 'item_type': 'PSScene4Band', 'asset_type': 'analytic'}]}\n",
      "Starting download for image 20170403_181108_1012\n",
      "Checking url https://api.planet.com/compute/ops/clips/v1//c93a2753-d442-486d-868b-b1b5a22465aa\n",
      "state: running, HTTP status: 200\n",
      "starting...{'aoi': {'type': 'Polygon', 'coordinates': [[[-121.53224, 46.92512000000001], [-121.53224, 46.91512], [-121.54223999999999, 46.91512], [-121.54223999999999, 46.92512000000001], [-121.53224, 46.92512000000001]]]}, 'id': '5328d4e5-7a46-4b9d-b714-422888b615ec', 'state': 'running', 'created_on': '2018-12-17T22:42:41.351Z', '_links': {'results': None, '_self': 'https://api.planet.com/compute/ops/clips/v1/5328d4e5-7a46-4b9d-b714-422888b615ec'}, 'last_modified': '2018-12-17T22:42:41.351Z', 'targets': [{'item_id': '20170103_180347_0c41', 'item_type': 'PSScene4Band', 'asset_type': 'analytic'}]}\n",
      "Checking url https://api.planet.com/compute/ops/clips/v1//5328d4e5-7a46-4b9d-b714-422888b615ec\n",
      "state: running, HTTP status: 200\n",
      "Starting download for image 20170202_181629_0e0f\n",
      "starting...{'aoi': {'type': 'Polygon', 'coordinates': [[[-121.53224, 46.92512000000001], [-121.53224, 46.91512], [-121.54223999999999, 46.91512], [-121.54223999999999, 46.92512000000001], [-121.53224, 46.92512000000001]]]}, 'id': 'dca33d42-2944-4925-9ae7-d43a041dbb34', 'state': 'running', 'created_on': '2018-12-17T22:42:45.054Z', '_links': {'results': None, '_self': 'https://api.planet.com/compute/ops/clips/v1/dca33d42-2944-4925-9ae7-d43a041dbb34'}, 'last_modified': '2018-12-17T22:42:45.054Z', 'targets': [{'item_id': '20170403_181108_1012', 'item_type': 'PSScene4Band', 'asset_type': 'analytic'}]}\n",
      "starting...{'aoi': {'type': 'Polygon', 'coordinates': [[[-121.53224, 46.92512000000001], [-121.53224, 46.91512], [-121.54223999999999, 46.91512], [-121.54223999999999, 46.92512000000001], [-121.53224, 46.92512000000001]]]}, 'id': '6c2e37ec-244c-4362-bf87-8720171e2373', 'state': 'running', 'created_on': '2018-12-17T22:42:45.365Z', '_links': {'results': None, '_self': 'https://api.planet.com/compute/ops/clips/v1/6c2e37ec-244c-4362-bf87-8720171e2373'}, 'last_modified': '2018-12-17T22:42:45.365Z', 'targets': [{'item_id': '20170305_181650_0e19', 'item_type': 'PSScene4Band', 'asset_type': 'analytic'}]}\n",
      "Checking url https://api.planet.com/compute/ops/clips/v1//dca33d42-2944-4925-9ae7-d43a041dbb34\n",
      "state: running, HTTP status: 200\n",
      "Checking url https://api.planet.com/compute/ops/clips/v1//6c2e37ec-244c-4362-bf87-8720171e2373\n",
      "state: running, HTTP status: 200\n",
      "starting...{'aoi': {'type': 'Polygon', 'coordinates': [[[-121.53224, 46.92512000000001], [-121.53224, 46.91512], [-121.54223999999999, 46.91512], [-121.54223999999999, 46.92512000000001], [-121.53224, 46.92512000000001]]]}, 'id': 'af32f4bf-013e-4bb4-b21d-8944950a74b8', 'state': 'running', 'created_on': '2018-12-17T22:42:46.553Z', '_links': {'results': None, '_self': 'https://api.planet.com/compute/ops/clips/v1/af32f4bf-013e-4bb4-b21d-8944950a74b8'}, 'last_modified': '2018-12-17T22:42:46.553Z', 'targets': [{'item_id': '20170202_181629_0e0f', 'item_type': 'PSScene4Band', 'asset_type': 'analytic'}]}\n",
      "Checking url https://api.planet.com/compute/ops/clips/v1//c93a2753-d442-486d-868b-b1b5a22465aa\n",
      "state: running, HTTP status: 200\n",
      "Checking url https://api.planet.com/compute/ops/clips/v1//5328d4e5-7a46-4b9d-b714-422888b615ec\n",
      "state: running, HTTP status: 200\n",
      "Checking url https://api.planet.com/compute/ops/clips/v1//af32f4bf-013e-4bb4-b21d-8944950a74b8\n",
      "state: running, HTTP status: 200\n",
      "Checking url https://api.planet.com/compute/ops/clips/v1//dca33d42-2944-4925-9ae7-d43a041dbb34\n",
      "state: running, HTTP status: 200\n",
      "Checking url https://api.planet.com/compute/ops/clips/v1//6c2e37ec-244c-4362-bf87-8720171e2373\n",
      "state: running, HTTP status: 200\n",
      "Checking url https://api.planet.com/compute/ops/clips/v1//5328d4e5-7a46-4b9d-b714-422888b615ec\n",
      "state: running, HTTP status: 200\n",
      "Checking url https://api.planet.com/compute/ops/clips/v1//c93a2753-d442-486d-868b-b1b5a22465aa\n",
      "state: running, HTTP status: 200\n",
      "Checking url https://api.planet.com/compute/ops/clips/v1//af32f4bf-013e-4bb4-b21d-8944950a74b8\n",
      "state: running, HTTP status: 200\n",
      "Checking url https://api.planet.com/compute/ops/clips/v1//6c2e37ec-244c-4362-bf87-8720171e2373\n",
      "state: running, HTTP status: 200\n",
      "Checking url https://api.planet.com/compute/ops/clips/v1//dca33d42-2944-4925-9ae7-d43a041dbb34\n",
      "state: running, HTTP status: 200\n",
      "Checking url https://api.planet.com/compute/ops/clips/v1//5328d4e5-7a46-4b9d-b714-422888b615ec\n",
      "response found.\n",
      "Checking url https://api.planet.com/compute/ops/clips/v1//c93a2753-d442-486d-868b-b1b5a22465aa\n",
      "response found.\n",
      "Checking url https://api.planet.com/compute/ops/clips/v1//af32f4bf-013e-4bb4-b21d-8944950a74b8\n",
      "state: running, HTTP status: 200\n",
      "Checking url https://api.planet.com/compute/ops/clips/v1//6c2e37ec-244c-4362-bf87-8720171e2373\n",
      "state: running, HTTP status: 200\n",
      "Checking url https://api.planet.com/compute/ops/clips/v1//dca33d42-2944-4925-9ae7-d43a041dbb34\n",
      "state: running, HTTP status: 200\n",
      "Checking url https://api.planet.com/compute/ops/clips/v1//af32f4bf-013e-4bb4-b21d-8944950a74b8\n",
      "response found.\n",
      "Checking url https://api.planet.com/compute/ops/clips/v1//6c2e37ec-244c-4362-bf87-8720171e2373\n",
      "response found.\n",
      "Checking url https://api.planet.com/compute/ops/clips/v1//dca33d42-2944-4925-9ae7-d43a041dbb34\n",
      "response found.\n"
     ]
    }
   ],
   "source": [
    "reload(download)\n",
    "files = {}\n",
    "for loc_id, img_ids in [list(loc_img_ids.items())[0]]:\n",
    "    box = boxes.loc[loc_id].geometry\n",
    "    dl = download.CroppedDownload(loc_id, box, img_ids, IMAGEDIR)\n",
    "    files[loc_id] = dl.run()\n"
   ]
  },
  {
   "cell_type": "code",
   "execution_count": 38,
   "metadata": {},
   "outputs": [
    {
     "data": {
      "text/plain": [
       "{1216: ['s3://planet-snowcover/tmp/1216_20170105_174052_0c45.zip',\n",
       "  's3://planet-snowcover/tmp/1216_20170124_181608_0e20.zip',\n",
       "  's3://planet-snowcover/tmp/1216_20170403_181107_1012.zip',\n",
       "  's3://planet-snowcover/tmp/1216_20161230_193630_0d06.zip',\n",
       "  's3://planet-snowcover/tmp/1216_20170115_181452_0e19.zip',\n",
       "  's3://planet-snowcover/tmp/1216_20161117_181314_0e26.zip',\n",
       "  's3://planet-snowcover/tmp/1216_20170103_180347_0c41.zip',\n",
       "  's3://planet-snowcover/tmp/1216_20170305_181650_0e19.zip',\n",
       "  's3://planet-snowcover/tmp/1216_20170403_181108_1012.zip',\n",
       "  's3://planet-snowcover/tmp/1216_20170202_181629_0e0f.zip']}"
      ]
     },
     "execution_count": 38,
     "metadata": {},
     "output_type": "execute_result"
    }
   ],
   "source": [
    "files"
   ]
  },
  {
   "cell_type": "code",
   "execution_count": null,
   "metadata": {},
   "outputs": [],
   "source": []
  }
 ],
 "metadata": {
  "kernelspec": {
   "display_name": "Python [conda env:imageprocess]",
   "language": "python",
   "name": "conda-env-imageprocess-py"
  },
  "language_info": {
   "codemirror_mode": {
    "name": "ipython",
    "version": 3
   },
   "file_extension": ".py",
   "mimetype": "text/x-python",
   "name": "python",
   "nbconvert_exporter": "python",
   "pygments_lexer": "ipython3",
   "version": "3.5.4"
  }
 },
 "nbformat": 4,
 "nbformat_minor": 2
}
