{
 "cells": [
  {
   "cell_type": "code",
   "execution_count": 3,
   "metadata": {},
   "outputs": [],
   "source": [
    "import pandas as pd\n",
    "import geopandas as gpd\n",
    "from shapely.geometry import Point, mapping, shape\n",
    "from imp import reload\n",
    "from numpy import mean\n",
    "from image_utils import search, download\n",
    "from numpy.random import randint, choice\n",
    "import random\n",
    "import folium\n",
    "import json\n",
    "import requests\n",
    "import os\n",
    "#import cartopy.crs as ccrs\n",
    "#from cartopy import feature\n",
    "from retrying import retry\n",
    "from IPython.display import Image\n",
    "import matplotlib.pyplot as plt\n",
    "import matplotlib.lines as mlines\n",
    "from matplotlib.patches import Circle\n",
    "import numpy as np\n",
    "from multiprocessing.dummy import Pool as ThreadPool \n",
    "\n",
    "plt.rcParams['figure.figsize'] = (20,20)\n",
    "%matplotlib inline\n",
    "\n",
    "#print(os.environ[\"PL_API_KEY\"])\n",
    "NUM_RANDOM_DATES = 10\n",
    "NUM_RANDOM_LOCATIONS = 20"
   ]
  },
  {
   "cell_type": "markdown",
   "metadata": {},
   "source": [
    "# API Search Candidate Selection Protocol\n",
    "The goal of this notebook is to develop the pathway from a set of single-measurement points to a set of cropped PlanetScope imagery for a given date band. \n",
    "\n",
    "## Extract 2017 Measurement Locations"
   ]
  },
  {
   "cell_type": "code",
   "execution_count": 4,
   "metadata": {},
   "outputs": [],
   "source": [
    "snowdata = pd.read_csv(\"../data/snow_summary_all_2009_2017_locs.csv\", \n",
    "                       parse_dates = [\"snow_appearance_date\", \"snow_disappearance_date\", \n",
    "                                      \"date_min\", \"date_max\"])\n",
    "snowdata = snowdata[snowdata.year >= 2017]\n",
    "snowdata['geometry'] = [Point(xy) for xy in zip(snowdata.longitude, snowdata.latitude)]\n",
    "snowdata = gpd.GeoDataFrame(snowdata)\n",
    "snowdata.crs = {'init' : 'epsg:4326'}\n"
   ]
  },
  {
   "cell_type": "code",
   "execution_count": 5,
   "metadata": {},
   "outputs": [],
   "source": [
    "locations = snowdata.dropna(subset=[\"longitude\", 'latitude']).drop_duplicates(\"Location\")\n",
    "\n"
   ]
  },
  {
   "cell_type": "code",
   "execution_count": 6,
   "metadata": {},
   "outputs": [],
   "source": [
    "locations = locations.loc[choice(locations.index, NUM_RANDOM_LOCATIONS, replace=False)]\n"
   ]
  },
  {
   "cell_type": "code",
   "execution_count": 7,
   "metadata": {},
   "outputs": [
    {
     "data": {
      "text/plain": [
       "20"
      ]
     },
     "execution_count": 7,
     "metadata": {},
     "output_type": "execute_result"
    }
   ],
   "source": [
    "len(locations)"
   ]
  },
  {
   "cell_type": "markdown",
   "metadata": {},
   "source": [
    "## Add bounding boxes"
   ]
  },
  {
   "cell_type": "code",
   "execution_count": 8,
   "metadata": {},
   "outputs": [],
   "source": [
    "boxes = locations[['Location', 'geometry']].copy()\n",
    "boxes.geometry = [g.buffer(0.005, cap_style=3) for g in boxes.geometry]"
   ]
  },
  {
   "cell_type": "markdown",
   "metadata": {},
   "source": [
    "## Search"
   ]
  },
  {
   "cell_type": "code",
   "execution_count": null,
   "metadata": {},
   "outputs": [],
   "source": []
  },
  {
   "cell_type": "code",
   "execution_count": null,
   "metadata": {
    "scrolled": true
   },
   "outputs": [
    {
     "name": "stderr",
     "output_type": "stream",
     "text": [
      "Querying Planet API:  85%|████████▌ | 17/20 [01:08<00:12,  4.02s/searches]"
     ]
    }
   ],
   "source": [
    "reload(search)\n",
    "dates = locations[['Location', \"snow_appearance_date\", \"snow_disappearance_date\"]]\n",
    "searcher = search.Search(boxes, dates, dry=False,\n",
    "                         key='Location', start_col='snow_appearance_date',\n",
    "                         end_col=\"snow_disappearance_date\")\n",
    "results = searcher.query()"
   ]
  },
  {
   "cell_type": "markdown",
   "metadata": {},
   "source": [
    "## Parse Results\n",
    "Choose `NUM_RANDOM_DATES` dates from results for each loc"
   ]
  },
  {
   "cell_type": "code",
   "execution_count": 26,
   "metadata": {
    "scrolled": false
   },
   "outputs": [],
   "source": [
    "loc_img_ids = {}\n",
    "for group in results.groupby('loc_id'):\n",
    "    if (len(group[1]) >= NUM_RANDOM_DATES):\n",
    "        loc_img_ids[group[0]] = list(set(choice(group[1].id.values, NUM_RANDOM_DATES, replace=False)))\n",
    "    else:\n",
    "        loc_img_ids[group[0]] = list(set(group[1].id.values))\n",
    "\n"
   ]
  },
  {
   "cell_type": "code",
   "execution_count": 73,
   "metadata": {},
   "outputs": [],
   "source": [
    "CLIP_API_URL = \"https://api.planet.com/compute/ops/clips/v1/\"\n",
    "IMAGEDIR = \"../images/\"\n",
    "PL_API_KEY = os.environ[\"PL_API_KEY\"]"
   ]
  },
  {
   "cell_type": "code",
   "execution_count": 92,
   "metadata": {},
   "outputs": [],
   "source": [
    "def clip_request_and_download(loc, image):\n",
    "\n",
    "    @retry(wait_fixed=5000)\n",
    "    def _check_clip_op(id):\n",
    "        r = requests.get(\"{_base}/{id}\".format(_base = CLIP_API_URL, id=id), auth=(PL_API_KEY, \"\"))\n",
    "        if r.json()['state'] != \"succeeded\":\n",
    "            print(\"...waiting\")\n",
    "            raise Exception(\"Not Yet\")\n",
    "        else:\n",
    "            print(\"response found.\")\n",
    "            return(r.json())\n",
    "    \n",
    "    geom = boxes.loc[loc].geometry\n",
    "        \n",
    "    payload = {\n",
    "        \"aoi\" : mapping(geom),\n",
    "        \"targets\" : [{\n",
    "            \"item_id\" : image, \n",
    "            \"item_type\" : \"PSScene4Band\", \n",
    "            \"asset_type\" : 'analytic'\n",
    "        }]\n",
    "    }\n",
    "\n",
    "    r = requests.post(CLIP_API_URL, auth=(PL_API_KEY, \"\"), json=payload)\n",
    "    print(r.json())\n",
    "    \n",
    "    response = _check_clip_op(r.json()['id'])\n",
    "\n",
    "    image_url = response['_links']['results'][0]\n",
    "    \n",
    "    local_filename = os.path.join(IMAGEDIR, \"{loc}_{img}.zip\".format(loc=loc, img=image))\n",
    "\n",
    "    r = requests.get(image_url, stream=True, auth=(PL_API_KEY, \"\"))\n",
    "    with open(local_filename, 'wb') as f:\n",
    "        for chunk in r.iter_content(chunk_size=1024): \n",
    "            if chunk: # filter out keep-alive new chunks\n",
    "                f.write(chunk)\n",
    "    return local_filename\n",
    "\n"
   ]
  },
  {
   "cell_type": "code",
   "execution_count": 140,
   "metadata": {},
   "outputs": [
    {
     "data": {
      "text/plain": [
       "83"
      ]
     },
     "execution_count": 140,
     "metadata": {},
     "output_type": "execute_result"
    }
   ],
   "source": [
    "len(loc_img_ids)"
   ]
  },
  {
   "cell_type": "code",
   "execution_count": 113,
   "metadata": {
    "scrolled": false
   },
   "outputs": [
    {
     "name": "stdout",
     "output_type": "stream",
     "text": [
      "Starting download for image 20170103_180347_0c41\n",
      "Starting download for image 20161117_181314_0e26\n",
      "Starting download for image 20170115_181452_0e19\n",
      "Starting download for image 20170403_181108_1012\n",
      "\t...waiting\n",
      "\t...waiting\n",
      "\t...waiting\n",
      "response found.\n",
      "response found.\n",
      "response found.\n",
      "response found.\n"
     ]
    }
   ],
   "source": [
    "reload(download)\n",
    "files = {}\n",
    "for loc_id, img_ids in loc_img_ids.items():\n",
    "    box = boxes.loc[loc_id].geometry\n",
    "    dl = download.CroppedDownload(loc_id, box, img_ids[], IMAGEDIR)\n",
    "    files[loc_id] = dl.run()\n"
   ]
  }
 ],
 "metadata": {
  "kernelspec": {
   "display_name": "Python [conda env:imageprocess]",
   "language": "python",
   "name": "conda-env-imageprocess-py"
  },
  "language_info": {
   "codemirror_mode": {
    "name": "ipython",
    "version": 3
   },
   "file_extension": ".py",
   "mimetype": "text/x-python",
   "name": "python",
   "nbconvert_exporter": "python",
   "pygments_lexer": "ipython3",
   "version": "3.5.4"
  }
 },
 "nbformat": 4,
 "nbformat_minor": 2
}
